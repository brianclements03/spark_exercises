{
 "cells": [
  {
   "cell_type": "code",
   "execution_count": 1,
   "metadata": {},
   "outputs": [],
   "source": [
    "from pyspark.sql import SparkSession\n",
    "from pyspark.sql.functions import *\n",
    "\n",
    "spark = SparkSession.builder.getOrCreate()"
   ]
  },
  {
   "cell_type": "markdown",
   "metadata": {},
   "source": [
    "# Exercises\n",
    "\n",
    "## Data Acquisition\n",
    "\n",
    "- These exercises should go in a notebook or script named wrangle. Add, commit, and push your changes.\n",
    "\n",
    "- This exercises uses the case.csv, dept.csv, and source.csv files from the san antonio 311 call dataset.\n",
    "\n",
    "### 1. Read the case, department, and source data into their own spark dataframes."
   ]
  },
  {
   "cell_type": "code",
   "execution_count": 2,
   "metadata": {},
   "outputs": [
    {
     "name": "stdout",
     "output_type": "stream",
     "text": [
      "+---------+----------------+\n",
      "|source_id| source_username|\n",
      "+---------+----------------+\n",
      "|   100137|Merlene Blodgett|\n",
      "|   103582|     Carmen Cura|\n",
      "|   106463| Richard Sanchez|\n",
      "+---------+----------------+\n",
      "only showing top 3 rows\n",
      "\n"
     ]
    }
   ],
   "source": [
    "source = (spark.read.csv(\"source.csv\",\n",
    "                     sep=\",\",\n",
    "                     header=True,\n",
    "                     inferSchema=True)\n",
    "     )\n",
    "source.show(3)"
   ]
  },
  {
   "cell_type": "code",
   "execution_count": 3,
   "metadata": {},
   "outputs": [
    {
     "data": {
      "text/plain": [
       "(140, 2)"
      ]
     },
     "execution_count": 3,
     "metadata": {},
     "output_type": "execute_result"
    }
   ],
   "source": [
    "source.count(), len(source.columns)"
   ]
  },
  {
   "cell_type": "code",
   "execution_count": 4,
   "metadata": {},
   "outputs": [
    {
     "name": "stdout",
     "output_type": "stream",
     "text": [
      "+---------+-----+\n",
      "|source_id|count|\n",
      "+---------+-----+\n",
      "|     null|  140|\n",
      "|   100137|    1|\n",
      "|   103582|    1|\n",
      "|   106463|    1|\n",
      "|   119403|    1|\n",
      "|   119555|    1|\n",
      "|   119868|    1|\n",
      "|   120752|    1|\n",
      "|   124405|    1|\n",
      "|   132408|    1|\n",
      "|   135723|    1|\n",
      "|   136202|    1|\n",
      "|   136979|    1|\n",
      "|   137943|    1|\n",
      "|   138605|    1|\n",
      "|   138650|    2|\n",
      "|   138793|    1|\n",
      "|   138810|    1|\n",
      "|   139342|    1|\n",
      "|   139344|    1|\n",
      "+---------+-----+\n",
      "only showing top 20 rows\n",
      "\n"
     ]
    }
   ],
   "source": [
    "source.rollup(\"source_id\").count().sort(\"source_id\").show()\n",
    "# source.where(source['source_id']==127332).show() # there weren't any, try again"
   ]
  },
  {
   "cell_type": "code",
   "execution_count": 5,
   "metadata": {},
   "outputs": [
    {
     "name": "stdout",
     "output_type": "stream",
     "text": [
      "-RECORD 0------------------------------------\n",
      " case_id              | 1014127332           \n",
      " case_opened_date     | 1/1/18 0:42          \n",
      " case_closed_date     | 1/1/18 12:29         \n",
      " SLA_due_date         | 9/26/20 0:42         \n",
      " case_late            | NO                   \n",
      " num_days_late        | -998.5087616000001   \n",
      " case_closed          | YES                  \n",
      " dept_division        | Field Operations     \n",
      " service_request_type | Stray Animal         \n",
      " SLA_days             | 999.0                \n",
      " case_status          | Closed               \n",
      " source_id            | svcCRMLS             \n",
      " request_address      | 2315  EL PASO ST,... \n",
      " council_district     | 5                    \n",
      "-RECORD 1------------------------------------\n",
      " case_id              | 1014127333           \n",
      " case_opened_date     | 1/1/18 0:46          \n",
      " case_closed_date     | 1/3/18 8:11          \n",
      " SLA_due_date         | 1/5/18 8:30          \n",
      " case_late            | NO                   \n",
      " num_days_late        | -2.0126041669999997  \n",
      " case_closed          | YES                  \n",
      " dept_division        | Storm Water          \n",
      " service_request_type | Removal Of Obstru... \n",
      " SLA_days             | 4.322222222          \n",
      " case_status          | Closed               \n",
      " source_id            | svcCRMSS             \n",
      " request_address      | 2215  GOLIAD RD, ... \n",
      " council_district     | 3                    \n",
      "-RECORD 2------------------------------------\n",
      " case_id              | 1014127334           \n",
      " case_opened_date     | 1/1/18 0:48          \n",
      " case_closed_date     | 1/2/18 7:57          \n",
      " SLA_due_date         | 1/5/18 8:30          \n",
      " case_late            | NO                   \n",
      " num_days_late        | -3.022337963         \n",
      " case_closed          | YES                  \n",
      " dept_division        | Storm Water          \n",
      " service_request_type | Removal Of Obstru... \n",
      " SLA_days             | 4.320729167          \n",
      " case_status          | Closed               \n",
      " source_id            | svcCRMSS             \n",
      " request_address      | 102  PALFREY ST W... \n",
      " council_district     | 3                    \n",
      "only showing top 3 rows\n",
      "\n"
     ]
    }
   ],
   "source": [
    "case = spark.read.csv(\"case.csv\", header=True, inferSchema=True)\n",
    "case.show(3, vertical=True)"
   ]
  },
  {
   "cell_type": "code",
   "execution_count": 6,
   "metadata": {},
   "outputs": [
    {
     "data": {
      "text/plain": [
       "(841704, 14)"
      ]
     },
     "execution_count": 6,
     "metadata": {},
     "output_type": "execute_result"
    }
   ],
   "source": [
    "case.count(),len(case.columns)"
   ]
  },
  {
   "cell_type": "code",
   "execution_count": 7,
   "metadata": {
    "scrolled": true
   },
   "outputs": [
    {
     "name": "stdout",
     "output_type": "stream",
     "text": [
      "+---------------+--------------------+----------------------+-------------------+\n",
      "|  dept_division|           dept_name|standardized_dept_name|dept_subject_to_SLA|\n",
      "+---------------+--------------------+----------------------+-------------------+\n",
      "|311 Call Center|    Customer Service|      Customer Service|                YES|\n",
      "|          Brush|Solid Waste Manag...|           Solid Waste|                YES|\n",
      "|Clean and Green|Parks and Recreation|    Parks & Recreation|                YES|\n",
      "+---------------+--------------------+----------------------+-------------------+\n",
      "only showing top 3 rows\n",
      "\n"
     ]
    }
   ],
   "source": [
    "dept = spark.read.csv(\"dept.csv\", header=True, inferSchema=True)\n",
    "dept.show(3)"
   ]
  },
  {
   "cell_type": "markdown",
   "metadata": {},
   "source": [
    "### 2. Let's see how writing to the local disk works in spark:\n",
    "\n",
    "    - Write the code necessary to store the source data in both csv and json format, store these as sources_csv and sources_json\n",
    "    - Inspect your folder structure. What do you notice?"
   ]
  },
  {
   "cell_type": "code",
   "execution_count": 8,
   "metadata": {},
   "outputs": [],
   "source": [
    "source.write.json(\"sources_json.json\", mode=\"overwrite\")\n",
    "source.write.csv(\"sources_csv.csv\", mode='overwrite')"
   ]
  },
  {
   "cell_type": "markdown",
   "metadata": {},
   "source": [
    "# Ravinder's solutions: anything called from 'df'"
   ]
  },
  {
   "cell_type": "code",
   "execution_count": 9,
   "metadata": {},
   "outputs": [
    {
     "name": "stdout",
     "output_type": "stream",
     "text": [
      "nrows: 841704\n"
     ]
    }
   ],
   "source": [
    "df = spark.read.csv('case.csv', header=True, inferSchema=True)\n",
    "print('nrows:', df.count())\n",
    "# stray_animal_cases = df.filter(df.service_request_type == 'Stray Animal').count()\n",
    "# print('stray animal cases:', stray_animal_cases)"
   ]
  },
  {
   "cell_type": "code",
   "execution_count": 10,
   "metadata": {},
   "outputs": [],
   "source": [
    "# Rename column\n",
    "df = df.withColumnRenamed('SLA_due_date', 'case_due_date')\n",
    "\n",
    "# Convert to better data types\n",
    "df = (\n",
    "    df.withColumn('case_late', col('case_late') == 'YES')\n",
    "    .withColumn('case_closed', col('case_closed') == 'YES')\n",
    ")\n",
    "df = df.withColumn('council_district', format_string('%04d', col('council_district')))\n",
    "df = (\n",
    "    df.withColumn('case_opened_date', to_timestamp(col('case_opened_date'), 'M/d/yy H:mm'))\n",
    "    .withColumn('case_closed_date', to_timestamp(col('case_closed_date'), 'M/d/yy H:mm'))\n",
    "    .withColumn('case_due_date', to_timestamp(col('case_due_date'), 'M/d/yy H:mm'))\n",
    ")\n",
    "\n",
    "# Cleanup text data\n",
    "df = df.withColumn('request_address', lower(trim(col('request_address'))))\n",
    "# Extract zipcode\n",
    "df = df.withColumn('zipcode', regexp_extract(col('request_address'), r'\\d+$', 0))\n",
    "\n",
    "# Create a `case_lifetime` feature\n",
    "df = (\n",
    "    df.withColumn('case_age', datediff(current_timestamp(), 'case_opened_date'))\n",
    "    .withColumn('days_to_closed', datediff('case_closed_date', 'case_opened_date'))\n",
    "    .withColumn('case_lifetime', when(col('case_closed'), col('days_to_closed')).otherwise(col('case_age')))\n",
    "    .drop('case_age', 'days_to_closed')\n",
    ")\n",
    "\n",
    "# Join departments and sources\n",
    "depts = spark.read.csv('dept.csv', header=True, inferSchema=True)\n",
    "sources = spark.read.csv('source.csv', header=True, inferSchema=True)\n",
    "\n",
    "df = df.join(depts, 'dept_division', 'left').join(sources, 'source_id', 'left')\n",
    "\n",
    "# # Train Test Split\n",
    "# train, test = df.randomSplit([.8, .2], seed=123)\n",
    "# train, validate, test = df.randomSplit([.7, .15, .15], seed=123)"
   ]
  },
  {
   "cell_type": "code",
   "execution_count": 11,
   "metadata": {},
   "outputs": [
    {
     "data": {
      "text/plain": [
       "855269"
      ]
     },
     "execution_count": 11,
     "metadata": {},
     "output_type": "execute_result"
    }
   ],
   "source": [
    "df.count()"
   ]
  },
  {
   "cell_type": "markdown",
   "metadata": {},
   "source": [
    "### 3. Inspect the data in your dataframes. Are the data types appropriate? Write the code necessary to cast the values to the appropriate types."
   ]
  },
  {
   "cell_type": "code",
   "execution_count": 12,
   "metadata": {},
   "outputs": [
    {
     "name": "stdout",
     "output_type": "stream",
     "text": [
      "+-------------------+\n",
      "|dept_subject_to_SLA|\n",
      "+-------------------+\n",
      "|               true|\n",
      "|               true|\n",
      "|               true|\n",
      "|               true|\n",
      "|               true|\n",
      "+-------------------+\n",
      "only showing top 5 rows\n",
      "\n"
     ]
    }
   ],
   "source": [
    "# source.dtypes # looks good here\n",
    "# dept.dtypes # the only change I would consider is to make the 'dept_subject_to_SLA' column a boolean\n",
    "dept = dept.withColumn(\"dept_subject_to_SLA\", expr('dept_subject_to_SLA == \"YES\"'))\n",
    "dept.select(\"dept_subject_to_SLA\").show(5)\n",
    "# looking good"
   ]
  },
  {
   "cell_type": "code",
   "execution_count": 13,
   "metadata": {},
   "outputs": [
    {
     "data": {
      "text/plain": [
       "[('case_id', 'int'),\n",
       " ('case_opened_date', 'string'),\n",
       " ('case_closed_date', 'string'),\n",
       " ('SLA_due_date', 'string'),\n",
       " ('case_late', 'string'),\n",
       " ('num_days_late', 'double'),\n",
       " ('case_closed', 'string'),\n",
       " ('dept_division', 'string'),\n",
       " ('service_request_type', 'string'),\n",
       " ('SLA_days', 'double'),\n",
       " ('case_status', 'string'),\n",
       " ('source_id', 'string'),\n",
       " ('request_address', 'string'),\n",
       " ('council_district', 'int')]"
      ]
     },
     "execution_count": 13,
     "metadata": {},
     "output_type": "execute_result"
    }
   ],
   "source": [
    "case.dtypes"
   ]
  },
  {
   "cell_type": "code",
   "execution_count": 14,
   "metadata": {},
   "outputs": [
    {
     "name": "stdout",
     "output_type": "stream",
     "text": [
      "-RECORD 0------------------------------------\n",
      " case_id              | 1014127332           \n",
      " case_opened_date     | 1/1/18 0:42          \n",
      " case_closed_date     | 1/1/18 12:29         \n",
      " SLA_due_date         | 9/26/20 0:42         \n",
      " case_late            | NO                   \n",
      " num_days_late        | -998.5087616000001   \n",
      " case_closed          | YES                  \n",
      " dept_division        | Field Operations     \n",
      " service_request_type | Stray Animal         \n",
      " SLA_days             | 999.0                \n",
      " case_status          | Closed               \n",
      " source_id            | svcCRMLS             \n",
      " request_address      | 2315  EL PASO ST,... \n",
      " council_district     | 5                    \n",
      "only showing top 1 row\n",
      "\n"
     ]
    }
   ],
   "source": [
    "case.show(1,vertical=True)"
   ]
  },
  {
   "cell_type": "code",
   "execution_count": 15,
   "metadata": {},
   "outputs": [],
   "source": [
    "case = case.withColumnRenamed('SLA_due_date', 'case_due_date')"
   ]
  },
  {
   "cell_type": "code",
   "execution_count": 16,
   "metadata": {},
   "outputs": [],
   "source": [
    "# use .withColumn to change columns from string to boolean values\n",
    "case = case.withColumn(\"case_closed\", expr('case_closed == \"YES\"'))\\\n",
    ".withColumn(\"case_late\", expr('case_late == \"YES\"'))"
   ]
  },
  {
   "cell_type": "code",
   "execution_count": 17,
   "metadata": {},
   "outputs": [],
   "source": [
    "case = case.withColumn(\"council_district\", col(\"council_district\").cast(\"string\"))\n",
    "\n",
    "# my only comment here is if it wouldn't be better to give the districts more 'categorical sounding' names\n",
    "# eg 'one','two','three', etc\n"
   ]
  },
  {
   "cell_type": "code",
   "execution_count": 18,
   "metadata": {},
   "outputs": [
    {
     "name": "stdout",
     "output_type": "stream",
     "text": [
      "--- After\n",
      "+-------------------+-------------------+-------------------+\n",
      "|   case_opened_date|   case_closed_date|      case_due_date|\n",
      "+-------------------+-------------------+-------------------+\n",
      "|2018-01-01 00:42:00|2018-01-01 00:42:00|2018-01-01 00:42:00|\n",
      "|2018-01-01 00:46:00|2018-01-01 00:46:00|2018-01-01 00:46:00|\n",
      "|2018-01-01 00:48:00|2018-01-01 00:48:00|2018-01-01 00:48:00|\n",
      "|2018-01-01 01:29:00|2018-01-01 01:29:00|2018-01-01 01:29:00|\n",
      "|2018-01-01 01:34:00|2018-01-01 01:34:00|2018-01-01 01:34:00|\n",
      "+-------------------+-------------------+-------------------+\n",
      "only showing top 5 rows\n",
      "\n"
     ]
    }
   ],
   "source": [
    "# to_timestamp, fmt\n",
    "\n",
    "fmt = \"M/d/yy H:mm\"\n",
    "\n",
    "case = (\n",
    "    case.withColumn(\"case_opened_date\", to_timestamp(\"case_opened_date\", fmt))\n",
    "    .withColumn(\"case_closed_date\", to_timestamp(\"case_opened_date\", fmt))\n",
    "    .withColumn(\"case_due_date\", to_timestamp(\"case_opened_date\", fmt))\n",
    ")\n",
    "\n",
    "print(\"--- After\")\n",
    "case.select(\"case_opened_date\", \"case_closed_date\", \"case_due_date\").show(5)"
   ]
  },
  {
   "cell_type": "code",
   "execution_count": 19,
   "metadata": {},
   "outputs": [],
   "source": [
    "# request_address: trim and lowercase\n",
    "\n",
    "case = case.withColumn(\"request_address\", lower(trim(\"request_address\")))"
   ]
  },
  {
   "cell_type": "code",
   "execution_count": 20,
   "metadata": {},
   "outputs": [],
   "source": [
    "# convert the number of days a case is late to a number of weeks\n",
    "\n",
    "case = case.withColumn(\"num_weeks_late\", expr(\"num_days_late / 7\"))"
   ]
  },
  {
   "cell_type": "code",
   "execution_count": 21,
   "metadata": {},
   "outputs": [],
   "source": [
    "case = case.withColumn('zipcode',regexp_extract('request_address', r'(\\d+$)',1))"
   ]
  },
  {
   "cell_type": "code",
   "execution_count": 22,
   "metadata": {},
   "outputs": [],
   "source": [
    "#create three new columns 'case_age', 'days_to_closed', 'case_lifetime'\n",
    "\n",
    "case = (\n",
    "    case.withColumn(\n",
    "        \"case_age\", datediff(current_timestamp(), \"case_opened_date\")\n",
    "    )\n",
    "    .withColumn(\n",
    "        \"days_to_closed\", datediff(\"case_closed_date\", \"case_opened_date\")\n",
    "    )\n",
    "    .withColumn(\n",
    "        \"case_lifetime\",\n",
    "        when(expr(\"! case_closed\"), col(\"case_age\")).otherwise(   ### \"when NOT case_closed, then case_age, otherwise....\"\n",
    "            col(\"days_to_closed\")\n",
    "        ),\n",
    "    )\n",
    ")"
   ]
  },
  {
   "cell_type": "code",
   "execution_count": 23,
   "metadata": {},
   "outputs": [
    {
     "name": "stdout",
     "output_type": "stream",
     "text": [
      "-RECORD 0------------------------------------\n",
      " case_id              | 1014127332           \n",
      " case_opened_date     | 2018-01-01 00:42:00  \n",
      " case_closed_date     | 2018-01-01 00:42:00  \n",
      " case_due_date        | 2018-01-01 00:42:00  \n",
      " case_late            | false                \n",
      " num_days_late        | -998.5087616000001   \n",
      " case_closed          | true                 \n",
      " dept_division        | Field Operations     \n",
      " service_request_type | Stray Animal         \n",
      " SLA_days             | 999.0                \n",
      " case_status          | Closed               \n",
      " source_id            | svcCRMLS             \n",
      " request_address      | 2315  el paso st,... \n",
      " council_district     | 5                    \n",
      " num_weeks_late       | -142.6441088         \n",
      " zipcode              | 78207                \n",
      " case_age             | 1545                 \n",
      " days_to_closed       | 0                    \n",
      " case_lifetime        | 0                    \n",
      "-RECORD 1------------------------------------\n",
      " case_id              | 1014127333           \n",
      " case_opened_date     | 2018-01-01 00:46:00  \n",
      " case_closed_date     | 2018-01-01 00:46:00  \n",
      " case_due_date        | 2018-01-01 00:46:00  \n",
      " case_late            | false                \n",
      " num_days_late        | -2.0126041669999997  \n",
      " case_closed          | true                 \n",
      " dept_division        | Storm Water          \n",
      " service_request_type | Removal Of Obstru... \n",
      " SLA_days             | 4.322222222          \n",
      " case_status          | Closed               \n",
      " source_id            | svcCRMSS             \n",
      " request_address      | 2215  goliad rd, ... \n",
      " council_district     | 3                    \n",
      " num_weeks_late       | -0.28751488099999994 \n",
      " zipcode              | 78223                \n",
      " case_age             | 1545                 \n",
      " days_to_closed       | 0                    \n",
      " case_lifetime        | 0                    \n",
      "only showing top 2 rows\n",
      "\n"
     ]
    }
   ],
   "source": [
    "case.show(2, vertical=True)"
   ]
  },
  {
   "cell_type": "markdown",
   "metadata": {},
   "source": [
    "### How old is the latest (in terms of days past SLA) currently open issue? How long has the oldest (in terms of days since opened) currently opened issue been open?"
   ]
  },
  {
   "cell_type": "code",
   "execution_count": 24,
   "metadata": {
    "scrolled": true
   },
   "outputs": [
    {
     "name": "stdout",
     "output_type": "stream",
     "text": [
      "+-------------+\n",
      "|days_past_SLA|\n",
      "+-------------+\n",
      "|         1544|\n",
      "+-------------+\n",
      "only showing top 1 row\n",
      "\n"
     ]
    }
   ],
   "source": [
    "(\n",
    "case.filter(case['case_closed']=='false')\n",
    "# .select(col('case_age'))\n",
    ".withColumn('days_past_SLA', datediff(current_timestamp(),\"case_due_date\"))\n",
    "# .show(1,vertical=True)\n",
    ").select('days_past_SLA').show(1)\n",
    "\n",
    "# toggling between the commented out code and the .select at the end for different views"
   ]
  },
  {
   "cell_type": "markdown",
   "metadata": {},
   "source": [
    "- WRONG ANSWER, APPARENTLY\n",
    "- Might be bc of the way I prepared my data"
   ]
  },
  {
   "cell_type": "code",
   "execution_count": 25,
   "metadata": {},
   "outputs": [],
   "source": [
    "df.createOrReplaceTempView('df')"
   ]
  },
  {
   "cell_type": "code",
   "execution_count": 26,
   "metadata": {},
   "outputs": [
    {
     "name": "stdout",
     "output_type": "stream",
     "text": [
      "+-------------+\n",
      "|days_past_due|\n",
      "+-------------+\n",
      "|         1894|\n",
      "|         1894|\n",
      "|         1894|\n",
      "|         1893|\n",
      "|         1891|\n",
      "|         1887|\n",
      "|         1887|\n",
      "|         1886|\n",
      "|         1885|\n",
      "|         1885|\n",
      "|         1881|\n",
      "|         1880|\n",
      "|         1880|\n",
      "|         1880|\n",
      "|         1877|\n",
      "+-------------+\n",
      "\n"
     ]
    }
   ],
   "source": [
    "####################################################################\n",
    "###### Ravinder's answer\n",
    "#####################################################################\n",
    "\n",
    "spark.sql('''\n",
    "SELECT DATEDIFF(current_timestamp, case_due_date) AS days_past_due\n",
    "FROM df\n",
    "WHERE NOT case_closed\n",
    "ORDER BY days_past_due DESC\n",
    "LIMIT 15\n",
    "''').show()"
   ]
  },
  {
   "cell_type": "code",
   "execution_count": 27,
   "metadata": {},
   "outputs": [
    {
     "name": "stdout",
     "output_type": "stream",
     "text": [
      "+--------------------------------------------+\n",
      "|datediff(current_timestamp(), case_due_date)|\n",
      "+--------------------------------------------+\n",
      "|                                        1544|\n",
      "|                                        1544|\n",
      "|                                        1544|\n",
      "|                                        1544|\n",
      "|                                        1544|\n",
      "|                                        1544|\n",
      "|                                        1544|\n",
      "|                                        1543|\n",
      "|                                        1543|\n",
      "|                                        1543|\n",
      "|                                        1543|\n",
      "|                                        1543|\n",
      "|                                        1543|\n",
      "|                                        1543|\n",
      "|                                        1543|\n",
      "+--------------------------------------------+\n",
      "only showing top 15 rows\n",
      "\n"
     ]
    }
   ],
   "source": [
    "(\n",
    "case.select(datediff(current_timestamp(),\"case_due_date\"))\n",
    ".where(case['case_closed']=='false')\n",
    ".show(15)\n",
    ")\n",
    "#mmm still not getting what ravinder said"
   ]
  },
  {
   "cell_type": "code",
   "execution_count": 28,
   "metadata": {},
   "outputs": [
    {
     "data": {
      "text/plain": [
       "[Row(case_lifetime=1547), Row(case_lifetime=1546), Row(case_lifetime=1546)]"
      ]
     },
     "execution_count": 28,
     "metadata": {},
     "output_type": "execute_result"
    }
   ],
   "source": [
    "(\n",
    "case.filter(case['case_closed']=='false')\n",
    "# .select(col('case_age'))\n",
    ".select('case_lifetime').tail(3)\n",
    ")\n",
    "# also wrong? our databases are different.  Ravinder says he has seen these answers before : )"
   ]
  },
  {
   "cell_type": "code",
   "execution_count": 29,
   "metadata": {},
   "outputs": [
    {
     "name": "stdout",
     "output_type": "stream",
     "text": [
      "+----------------+\n",
      "|days_past_opened|\n",
      "+----------------+\n",
      "|            1910|\n",
      "|            1910|\n",
      "|            1909|\n",
      "|            1908|\n",
      "|            1907|\n",
      "|            1907|\n",
      "|            1907|\n",
      "|            1907|\n",
      "|            1907|\n",
      "|            1907|\n",
      "|            1907|\n",
      "|            1907|\n",
      "|            1907|\n",
      "|            1907|\n",
      "|            1907|\n",
      "+----------------+\n",
      "\n"
     ]
    }
   ],
   "source": [
    "# How long has the oldest (in terms of days since opened) currently opened issue been open?\n",
    "spark.sql('''\n",
    "SELECT DATEDIFF(current_timestamp, case_opened_date) AS days_past_opened\n",
    "FROM df\n",
    "WHERE NOT case_closed\n",
    "ORDER BY days_past_opened DESC\n",
    "LIMIT 15\n",
    "''').show()"
   ]
  },
  {
   "cell_type": "markdown",
   "metadata": {},
   "source": [
    "### How many Stray Animal cases are there?"
   ]
  },
  {
   "cell_type": "code",
   "execution_count": 30,
   "metadata": {},
   "outputs": [
    {
     "data": {
      "text/plain": [
       "26760"
      ]
     },
     "execution_count": 30,
     "metadata": {},
     "output_type": "execute_result"
    }
   ],
   "source": [
    "case.filter(case['service_request_type']=='Stray Animal').count()"
   ]
  },
  {
   "cell_type": "code",
   "execution_count": 31,
   "metadata": {},
   "outputs": [
    {
     "data": {
      "text/plain": [
       "27361"
      ]
     },
     "execution_count": 31,
     "metadata": {},
     "output_type": "execute_result"
    }
   ],
   "source": [
    "# How many Stray Animal cases are there?\n",
    "df.filter(df.service_request_type == 'Stray Animal').count()"
   ]
  },
  {
   "cell_type": "code",
   "execution_count": 32,
   "metadata": {},
   "outputs": [
    {
     "name": "stdout",
     "output_type": "stream",
     "text": [
      "+--------------------+-----+\n",
      "|service_request_type|count|\n",
      "+--------------------+-----+\n",
      "|        Stray Animal|27361|\n",
      "+--------------------+-----+\n",
      "\n"
     ]
    }
   ],
   "source": [
    "# another visualization\n",
    "(\n",
    "    df.groupBy('service_request_type')\n",
    "    .count()\n",
    "    .filter(expr('service_request_type == \"Stray Animal\"'))\n",
    "    .show()\n",
    ")"
   ]
  },
  {
   "cell_type": "markdown",
   "metadata": {},
   "source": [
    "### How many service requests that are assigned to the Field Operations department (dept_division) are not classified as \"Officer Standby\" request type (service_request_type)?"
   ]
  },
  {
   "cell_type": "code",
   "execution_count": 33,
   "metadata": {},
   "outputs": [],
   "source": [
    "# case.show(1, vertical=True)"
   ]
  },
  {
   "cell_type": "code",
   "execution_count": 34,
   "metadata": {},
   "outputs": [
    {
     "data": {
      "text/plain": [
       "113902"
      ]
     },
     "execution_count": 34,
     "metadata": {},
     "output_type": "execute_result"
    }
   ],
   "source": [
    "(\n",
    "case.where(col('dept_division')=='Field Operations')\n",
    ".filter(col('service_request_type')!='Officer Standby').count()\n",
    "# .show(1, vertical=True)\n",
    ")"
   ]
  },
  {
   "cell_type": "code",
   "execution_count": 35,
   "metadata": {},
   "outputs": [
    {
     "data": {
      "text/plain": [
       "116295"
      ]
     },
     "execution_count": 35,
     "metadata": {},
     "output_type": "execute_result"
    }
   ],
   "source": [
    "# How many service requests that are assigned to the Field Operations department (dept_division)\n",
    "# are not classified as \"Officer Standby\" request type (service_request_type)?\n",
    "(\n",
    "    df.filter(df.dept_division == 'Field Operations')\n",
    "    .filter(df.service_request_type != 'Officer Standby')\n",
    "    .count()\n",
    ")"
   ]
  },
  {
   "cell_type": "code",
   "execution_count": 36,
   "metadata": {},
   "outputs": [
    {
     "data": {
      "text/plain": [
       "116295"
      ]
     },
     "execution_count": 36,
     "metadata": {},
     "output_type": "execute_result"
    }
   ],
   "source": [
    "# Another way to do it\n",
    "(\n",
    "    df.filter(expr(\"dept_division == 'Field Operations'\"))\n",
    "    .filter(expr('service_request_type != \"Officer Standby\"'))\n",
    "    .count()\n",
    ")"
   ]
  },
  {
   "cell_type": "markdown",
   "metadata": {},
   "source": [
    "### Convert the council_district column to a string column."
   ]
  },
  {
   "cell_type": "code",
   "execution_count": 37,
   "metadata": {},
   "outputs": [],
   "source": [
    "# I did this in an above step"
   ]
  },
  {
   "cell_type": "markdown",
   "metadata": {},
   "source": [
    "### Extract the year from the case_closed_date column."
   ]
  },
  {
   "cell_type": "code",
   "execution_count": 38,
   "metadata": {},
   "outputs": [],
   "source": [
    "# case.show(1, vertical=True)"
   ]
  },
  {
   "cell_type": "code",
   "execution_count": 39,
   "metadata": {},
   "outputs": [
    {
     "name": "stdout",
     "output_type": "stream",
     "text": [
      "-RECORD 0------------------------------------\n",
      " case_id              | 1014127332           \n",
      " case_opened_date     | 2018-01-01 00:42:00  \n",
      " case_closed_date     | 2018-01-01 00:42:00  \n",
      " case_due_date        | 2018-01-01 00:42:00  \n",
      " case_late            | false                \n",
      " num_days_late        | -998.5087616000001   \n",
      " case_closed          | true                 \n",
      " dept_division        | Field Operations     \n",
      " service_request_type | Stray Animal         \n",
      " SLA_days             | 999.0                \n",
      " case_status          | Closed               \n",
      " source_id            | svcCRMLS             \n",
      " request_address      | 2315  el paso st,... \n",
      " council_district     | 5                    \n",
      " num_weeks_late       | -142.6441088         \n",
      " zipcode              | 78207                \n",
      " case_age             | 1545                 \n",
      " days_to_closed       | 0                    \n",
      " case_lifetime        | 0                    \n",
      " case_closed_year     | 2018                 \n",
      "only showing top 1 row\n",
      "\n"
     ]
    }
   ],
   "source": [
    "case = case.withColumn('case_closed_year', year('case_closed_date'))\n",
    "case.show(1, vertical=True)"
   ]
  },
  {
   "cell_type": "markdown",
   "metadata": {},
   "source": [
    "### Convert num_days_late from days to hours in new columns num_hours_late."
   ]
  },
  {
   "cell_type": "code",
   "execution_count": 40,
   "metadata": {},
   "outputs": [],
   "source": [
    "# case.show(1, vertical=True)"
   ]
  },
  {
   "cell_type": "code",
   "execution_count": 41,
   "metadata": {
    "scrolled": true
   },
   "outputs": [
    {
     "name": "stdout",
     "output_type": "stream",
     "text": [
      "-RECORD 0------------------------------------\n",
      " case_id              | 1014127332           \n",
      " case_opened_date     | 2018-01-01 00:42:00  \n",
      " case_closed_date     | 2018-01-01 00:42:00  \n",
      " case_due_date        | 2018-01-01 00:42:00  \n",
      " case_late            | false                \n",
      " num_days_late        | -998.5087616000001   \n",
      " case_closed          | true                 \n",
      " dept_division        | Field Operations     \n",
      " service_request_type | Stray Animal         \n",
      " SLA_days             | 999.0                \n",
      " case_status          | Closed               \n",
      " source_id            | svcCRMLS             \n",
      " request_address      | 2315  el paso st,... \n",
      " council_district     | 5                    \n",
      " num_weeks_late       | -142.6441088         \n",
      " zipcode              | 78207                \n",
      " case_age             | 1545                 \n",
      " days_to_closed       | 0                    \n",
      " case_lifetime        | 0                    \n",
      " case_closed_year     | 2018                 \n",
      " num_hours_late       | -23964.2102784       \n",
      "only showing top 1 row\n",
      "\n"
     ]
    }
   ],
   "source": [
    "case = case.withColumn('num_hours_late', col('num_days_late') * 24)\n",
    "case.show(1, vertical=True)"
   ]
  },
  {
   "cell_type": "markdown",
   "metadata": {},
   "source": [
    "### Join the case data with the source and department data."
   ]
  },
  {
   "cell_type": "code",
   "execution_count": 42,
   "metadata": {
    "scrolled": true
   },
   "outputs": [
    {
     "name": "stdout",
     "output_type": "stream",
     "text": [
      "+---------------+--------------------+----------------------+-------------------+\n",
      "|  dept_division|           dept_name|standardized_dept_name|dept_subject_to_SLA|\n",
      "+---------------+--------------------+----------------------+-------------------+\n",
      "|311 Call Center|    Customer Service|      Customer Service|               true|\n",
      "|          Brush|Solid Waste Manag...|           Solid Waste|               true|\n",
      "+---------------+--------------------+----------------------+-------------------+\n",
      "only showing top 2 rows\n",
      "\n"
     ]
    }
   ],
   "source": [
    "dept.show(2)"
   ]
  },
  {
   "cell_type": "code",
   "execution_count": 43,
   "metadata": {
    "scrolled": false
   },
   "outputs": [
    {
     "name": "stdout",
     "output_type": "stream",
     "text": [
      "+---------+----------------+\n",
      "|source_id| source_username|\n",
      "+---------+----------------+\n",
      "|   100137|Merlene Blodgett|\n",
      "|   103582|     Carmen Cura|\n",
      "+---------+----------------+\n",
      "only showing top 2 rows\n",
      "\n"
     ]
    }
   ],
   "source": [
    "source.show(2)"
   ]
  },
  {
   "cell_type": "code",
   "execution_count": 44,
   "metadata": {},
   "outputs": [
    {
     "name": "stdout",
     "output_type": "stream",
     "text": [
      "+---------+-----+\n",
      "|source_id|count|\n",
      "+---------+-----+\n",
      "|   136202|    1|\n",
      "|   141239|    1|\n",
      "|  MW16328|    1|\n",
      "|  df03076|    1|\n",
      "|   141549|    1|\n",
      "+---------+-----+\n",
      "only showing top 5 rows\n",
      "\n"
     ]
    }
   ],
   "source": [
    "source_counts = source.groupBy(\"source_id\").count().sort(\"count\")\n",
    "source_counts.show(5)"
   ]
  },
  {
   "cell_type": "code",
   "execution_count": 45,
   "metadata": {},
   "outputs": [
    {
     "data": {
      "text/plain": [
       "139"
      ]
     },
     "execution_count": 45,
     "metadata": {},
     "output_type": "execute_result"
    }
   ],
   "source": [
    "source_counts.count()"
   ]
  },
  {
   "cell_type": "code",
   "execution_count": 46,
   "metadata": {},
   "outputs": [
    {
     "data": {
      "text/plain": [
       "139"
      ]
     },
     "execution_count": 46,
     "metadata": {},
     "output_type": "execute_result"
    }
   ],
   "source": [
    "case_counts = case.groupBy(\"source_id\").count().sort(\"count\")\n",
    "case_counts.count()"
   ]
  },
  {
   "cell_type": "code",
   "execution_count": 47,
   "metadata": {},
   "outputs": [
    {
     "name": "stdout",
     "output_type": "stream",
     "text": [
      "-RECORD 0------------------------------------\n",
      " case_id              | 1014127332           \n",
      " case_opened_date     | 2018-01-01 00:42:00  \n",
      " case_closed_date     | 2018-01-01 00:42:00  \n",
      " case_due_date        | 2018-01-01 00:42:00  \n",
      " case_late            | false                \n",
      " num_days_late        | -998.5087616000001   \n",
      " case_closed          | true                 \n",
      " dept_division        | Field Operations     \n",
      " service_request_type | Stray Animal         \n",
      " SLA_days             | 999.0                \n",
      " case_status          | Closed               \n",
      " source_id            | svcCRMLS             \n",
      " request_address      | 2315  el paso st,... \n",
      " council_district     | 5                    \n",
      " num_weeks_late       | -142.6441088         \n",
      " zipcode              | 78207                \n",
      " case_age             | 1545                 \n",
      " days_to_closed       | 0                    \n",
      " case_lifetime        | 0                    \n",
      " case_closed_year     | 2018                 \n",
      " num_hours_late       | -23964.2102784       \n",
      "only showing top 1 row\n",
      "\n"
     ]
    }
   ],
   "source": [
    "case.show(1, vertical=True)"
   ]
  },
  {
   "cell_type": "code",
   "execution_count": 48,
   "metadata": {},
   "outputs": [],
   "source": [
    "# join the df and dept dataframe using 'dept_division' as common key\n",
    "# drop columns as needed (keep standardized_dept_name)\n",
    "# convert dept_subject_to_SLA to boolean\n",
    "\n",
    "case = (\n",
    "    (\n",
    "    case\n",
    "    # left join on dept_division\n",
    "    .join(dept, \"dept_division\", \"left\")\n",
    "    # drop all the columns except for standardized name, as it has much fewer unique values\n",
    "    .drop(dept.dept_division)\n",
    "    .drop(dept.dept_name)\n",
    "    .withColumnRenamed(\"standardized_dept_name\", \"department\")\n",
    "    # convert to a boolean\n",
    "    .withColumn(\"dept_subject_to_SLA\", col(\"dept_subject_to_SLA\") == \"YES\")\n",
    "    )\n",
    ")"
   ]
  },
  {
   "cell_type": "code",
   "execution_count": 49,
   "metadata": {},
   "outputs": [],
   "source": [
    "case = case.join(source, case.source_id == source.source_id, 'outer').drop(case.source_id)"
   ]
  },
  {
   "cell_type": "code",
   "execution_count": 50,
   "metadata": {
    "scrolled": true
   },
   "outputs": [
    {
     "name": "stdout",
     "output_type": "stream",
     "text": [
      "-RECORD 0------------------------------------\n",
      " dept_division        | Waste Collection     \n",
      " case_id              | 1014128056           \n",
      " case_opened_date     | 2018-01-02 08:21:00  \n",
      " case_closed_date     | 2018-01-02 08:21:00  \n",
      " case_due_date        | 2018-01-02 08:21:00  \n",
      " case_late            | true                 \n",
      " num_days_late        | 5.00681713           \n",
      " case_closed          | true                 \n",
      " service_request_type | Solid Waste Fees ... \n",
      " SLA_days             | 3.00619213           \n",
      " case_status          | Closed               \n",
      " request_address      | 3214  stoney fork... \n",
      " council_district     | 10                   \n",
      " num_weeks_late       | 0.71525959           \n",
      " zipcode              | 78247                \n",
      " case_age             | 1544                 \n",
      " days_to_closed       | 0                    \n",
      " case_lifetime        | 0                    \n",
      " case_closed_year     | 2018                 \n",
      " num_hours_late       | 120.16361112         \n",
      " department           | Solid Waste          \n",
      " dept_subject_to_SLA  | true                 \n",
      " source_id            | 136202               \n",
      " source_username      | Michelle Urrutia     \n",
      "only showing top 1 row\n",
      "\n"
     ]
    }
   ],
   "source": [
    "case.show(1,vertical=True)"
   ]
  },
  {
   "cell_type": "markdown",
   "metadata": {},
   "source": [
    "### Are there any cases that do not have a request source?"
   ]
  },
  {
   "cell_type": "code",
   "execution_count": 51,
   "metadata": {},
   "outputs": [
    {
     "name": "stdout",
     "output_type": "stream",
     "text": [
      "+---------+---------------+\n",
      "|source_id|source_username|\n",
      "+---------+---------------+\n",
      "|        0|              0|\n",
      "+---------+---------------+\n",
      "\n"
     ]
    }
   ],
   "source": [
    "from pyspark.sql.functions import isnan, when, count, col\n",
    "\n",
    "\n",
    "df_columns = ['source_id','source_username']\n",
    "case.select([count(when(isnan(c)| col(c).isNull(), c)).alias(c) for c in df_columns]).show()\n",
    "\n",
    "\n",
    "\n",
    "# i think this is correct, if i have understood the question "
   ]
  },
  {
   "cell_type": "code",
   "execution_count": 52,
   "metadata": {},
   "outputs": [
    {
     "name": "stdout",
     "output_type": "stream",
     "text": [
      "(0 rows)\n",
      "\n"
     ]
    }
   ],
   "source": [
    "# ravinder's solution, confirming mine:\n",
    "df.filter(col('source_id').isNull()).show(vertical=True)"
   ]
  },
  {
   "cell_type": "markdown",
   "metadata": {},
   "source": [
    "### What are the top 10 service request types in terms of number of requests?"
   ]
  },
  {
   "cell_type": "code",
   "execution_count": 53,
   "metadata": {},
   "outputs": [
    {
     "name": "stdout",
     "output_type": "stream",
     "text": [
      "-RECORD 0-------------------------------------------\n",
      " service_request_type        | No Pickup            \n",
      " count(service_request_type) | 89210                \n",
      "-RECORD 1-------------------------------------------\n",
      " service_request_type        | Overgrown Yard/Trash \n",
      " count(service_request_type) | 66403                \n",
      "-RECORD 2-------------------------------------------\n",
      " service_request_type        | Bandit Signs         \n",
      " count(service_request_type) | 32968                \n",
      "-RECORD 3-------------------------------------------\n",
      " service_request_type        | Damaged Cart         \n",
      " count(service_request_type) | 31163                \n",
      "-RECORD 4-------------------------------------------\n",
      " service_request_type        | Front Or Side Yar... \n",
      " count(service_request_type) | 28920                \n",
      "-RECORD 5-------------------------------------------\n",
      " service_request_type        | Stray Animal         \n",
      " count(service_request_type) | 27361                \n",
      "-RECORD 6-------------------------------------------\n",
      " service_request_type        | Aggressive Animal... \n",
      " count(service_request_type) | 25492                \n",
      "-RECORD 7-------------------------------------------\n",
      " service_request_type        | Cart Exchange Req... \n",
      " count(service_request_type) | 22608                \n",
      "-RECORD 8-------------------------------------------\n",
      " service_request_type        | Junk Vehicle On P... \n",
      " count(service_request_type) | 21649                \n",
      "-RECORD 9-------------------------------------------\n",
      " service_request_type        | Pot Hole Repair      \n",
      " count(service_request_type) | 20827                \n",
      "only showing top 10 rows\n",
      "\n"
     ]
    }
   ],
   "source": [
    "(\n",
    "case\n",
    ".groupBy('service_request_type')\n",
    ".agg(count(col('service_request_type')))\n",
    ".sort(count(('service_request_type')).desc())\n",
    ".show(10, vertical=True)\n",
    ")"
   ]
  },
  {
   "cell_type": "code",
   "execution_count": 54,
   "metadata": {},
   "outputs": [
    {
     "name": "stdout",
     "output_type": "stream",
     "text": [
      "+--------------------------------+-----+\n",
      "|service_request_type            |count|\n",
      "+--------------------------------+-----+\n",
      "|No Pickup                       |89210|\n",
      "|Overgrown Yard/Trash            |66403|\n",
      "|Bandit Signs                    |32968|\n",
      "|Damaged Cart                    |31163|\n",
      "|Front Or Side Yard Parking      |28920|\n",
      "|Stray Animal                    |27361|\n",
      "|Aggressive Animal(Non-Critical) |25492|\n",
      "|Cart Exchange Request           |22608|\n",
      "|Junk Vehicle On Private Property|21649|\n",
      "|Pot Hole Repair                 |20827|\n",
      "+--------------------------------+-----+\n",
      "only showing top 10 rows\n",
      "\n"
     ]
    }
   ],
   "source": [
    "# What are the top 10 service request types in terms of number of requests?\n",
    "(\n",
    "    df.groupby('service_request_type')\n",
    "    .count()\n",
    "    .sort(col('count').desc())\n",
    "    .show(10, truncate=False)\n",
    ")\n",
    "\n",
    "# good job on your answer, this is just better visually"
   ]
  },
  {
   "cell_type": "markdown",
   "metadata": {},
   "source": [
    "### What are the top 10 service request types in terms of average days late?"
   ]
  },
  {
   "cell_type": "code",
   "execution_count": 55,
   "metadata": {},
   "outputs": [
    {
     "name": "stdout",
     "output_type": "stream",
     "text": [
      "-RECORD 0------------------------------------\n",
      " service_request_type | Zoning: Junk Yards   \n",
      " avg(num_days_late)   | 175.95636210420932   \n",
      "-RECORD 1------------------------------------\n",
      " service_request_type | Labeling for Used... \n",
      " avg(num_days_late)   | 162.43032902285717   \n",
      "-RECORD 2------------------------------------\n",
      " service_request_type | Record Keeping of... \n",
      " avg(num_days_late)   | 153.99724039428568   \n",
      "-RECORD 3------------------------------------\n",
      " service_request_type | Signage Requied f... \n",
      " avg(num_days_late)   | 151.63868055333333   \n",
      "-RECORD 4------------------------------------\n",
      " service_request_type | Storage of Used M... \n",
      " avg(num_days_late)   | 142.11255641500003   \n",
      "-RECORD 5------------------------------------\n",
      " service_request_type | Zoning: Recycle Yard \n",
      " avg(num_days_late)   | 135.9285161247979    \n",
      "-RECORD 6------------------------------------\n",
      " service_request_type | Donation Containe... \n",
      " avg(num_days_late)   | 131.75610506358709   \n",
      "-RECORD 7------------------------------------\n",
      " service_request_type | License Requied U... \n",
      " avg(num_days_late)   | 128.79828704142858   \n",
      "-RECORD 8------------------------------------\n",
      " service_request_type | Traffic Signal Gr... \n",
      " avg(num_days_late)   | 101.79846062200002   \n",
      "-RECORD 9------------------------------------\n",
      " service_request_type | Complaint            \n",
      " avg(num_days_late)   | 72.87050230311698    \n",
      "only showing top 10 rows\n",
      "\n"
     ]
    }
   ],
   "source": [
    "(\n",
    "case\n",
    ".groupBy('service_request_type')\n",
    ".agg(mean(col('num_days_late')))\n",
    ".sort(mean(('num_days_late')).desc())\n",
    ".show(10, vertical=True)\n",
    ")"
   ]
  },
  {
   "cell_type": "code",
   "execution_count": 56,
   "metadata": {},
   "outputs": [
    {
     "name": "stdout",
     "output_type": "stream",
     "text": [
      "+--------------------------------------+------------------+-------+\n",
      "|service_request_type                  |n_days_late       |n_cases|\n",
      "+--------------------------------------+------------------+-------+\n",
      "|Zoning: Recycle Yard                  |210.89201994318182|132    |\n",
      "|Zoning: Junk Yards                    |200.20517608494276|262    |\n",
      "|Structure/Housing Maintenance         |190.20707698509807|51     |\n",
      "|Donation Container Enforcement        |171.09115313942615|122    |\n",
      "|Storage of Used Mattress              |163.96812829714287|7      |\n",
      "|Labeling for Used Mattress            |162.43032902285717|7      |\n",
      "|Record Keeping of Used Mattresses     |153.99724039428568|7      |\n",
      "|Signage Requied for Sale of Used Mattr|151.63868055333333|12     |\n",
      "|Traffic Signal Graffiti               |137.64583330000002|4      |\n",
      "|License Requied Used Mattress Sales   |128.79828704142858|7      |\n",
      "+--------------------------------------+------------------+-------+\n",
      "only showing top 10 rows\n",
      "\n"
     ]
    }
   ],
   "source": [
    "# What are the top 10 service request types in terms of average days late?\n",
    "# - just the late cases\n",
    "# - for the late cases:\n",
    "#   - what is the average number of days late by request type?\n",
    "(\n",
    "    df.where('case_late') # just the rows where case_late == true\n",
    "    .groupBy('service_request_type')\n",
    "    .agg(mean('num_days_late').alias('n_days_late'), count('*').alias('n_cases'))\n",
    "    .sort(desc('n_days_late'))\n",
    "    .show(10, truncate=False)\n",
    ")"
   ]
  },
  {
   "cell_type": "markdown",
   "metadata": {},
   "source": [
    "### Does number of days late depend on department?"
   ]
  },
  {
   "cell_type": "code",
   "execution_count": 57,
   "metadata": {},
   "outputs": [
    {
     "name": "stdout",
     "output_type": "stream",
     "text": [
      "-RECORD 0----------------------------------\n",
      " department         | Customer Service     \n",
      " avg(num_days_late) | 59.73709149630082    \n",
      "-RECORD 1----------------------------------\n",
      " department         | Solid Waste          \n",
      " avg(num_days_late) | -2.200057513672168   \n",
      "-RECORD 2----------------------------------\n",
      " department         | Metro Health         \n",
      " avg(num_days_late) | -4.911766979607001   \n",
      "-RECORD 3----------------------------------\n",
      " department         | Parks & Recreation   \n",
      " avg(num_days_late) | -5.251521960055156   \n",
      "-RECORD 4----------------------------------\n",
      " department         | Trans & Cap Impro... \n",
      " avg(num_days_late) | -20.612837354052726  \n",
      "-RECORD 5----------------------------------\n",
      " department         | DSD/Code Enforcement \n",
      " avg(num_days_late) | -38.3693889261437    \n",
      "-RECORD 6----------------------------------\n",
      " department         | Animal Care Services \n",
      " avg(num_days_late) | -226.5178394055035   \n",
      "-RECORD 7----------------------------------\n",
      " department         | City Council         \n",
      " avg(num_days_late) | null                 \n",
      "\n"
     ]
    }
   ],
   "source": [
    "(\n",
    "case\n",
    ".groupBy('department')\n",
    ".agg(mean(col('num_days_late')))\n",
    ".sort(mean(('num_days_late')).desc())\n",
    ".show(vertical=True)\n",
    ")"
   ]
  },
  {
   "cell_type": "code",
   "execution_count": 58,
   "metadata": {},
   "outputs": [
    {
     "name": "stdout",
     "output_type": "stream",
     "text": [
      "+-------------------------+---------+------------+\n",
      "|dept_name                |days_late|n_cases_late|\n",
      "+-------------------------+---------+------------+\n",
      "|Metro Health             |6.5      |854         |\n",
      "|Solid Waste Management   |7.1      |33729       |\n",
      "|Trans & Cap Improvements |10.7     |5529        |\n",
      "|Parks and Recreation     |22.4     |3810        |\n",
      "|Animal Care Services     |23.4     |23751       |\n",
      "|Code Enforcement Services|48.1     |25467       |\n",
      "|Development Services     |67.2     |840         |\n",
      "|Customer Service         |88.2     |2035        |\n",
      "|null                     |210.9    |132         |\n",
      "+-------------------------+---------+------------+\n",
      "\n"
     ]
    }
   ],
   "source": [
    "# Does number of days late depend on department?\n",
    "(\n",
    "    df.filter('case_late')\n",
    "    .groupby('dept_name')\n",
    "    .agg(mean('num_days_late').alias('days_late'), count('num_days_late').alias('n_cases_late'))\n",
    "    .sort('days_late')\n",
    "    .withColumn('days_late', round(col('days_late'), 1))\n",
    "    .show(truncate=False)\n",
    ")"
   ]
  },
  {
   "cell_type": "markdown",
   "metadata": {},
   "source": [
    "### How do number of days late depend on department and request type?"
   ]
  },
  {
   "cell_type": "code",
   "execution_count": 59,
   "metadata": {},
   "outputs": [],
   "source": [
    "# case.show(1,vertical=True)"
   ]
  },
  {
   "cell_type": "code",
   "execution_count": 60,
   "metadata": {},
   "outputs": [
    {
     "name": "stdout",
     "output_type": "stream",
     "text": [
      "-RECORD 0------------------------------------\n",
      " department           | DSD/Code Enforcement \n",
      " service_request_type | Zoning: Junk Yards   \n",
      " avg(num_days_late)   | 175.95636210420932   \n",
      "-RECORD 1------------------------------------\n",
      " department           | DSD/Code Enforcement \n",
      " service_request_type | Labeling for Used... \n",
      " avg(num_days_late)   | 162.43032902285717   \n",
      "-RECORD 2------------------------------------\n",
      " department           | DSD/Code Enforcement \n",
      " service_request_type | Record Keeping of... \n",
      " avg(num_days_late)   | 153.99724039428568   \n",
      "-RECORD 3------------------------------------\n",
      " department           | DSD/Code Enforcement \n",
      " service_request_type | Signage Requied f... \n",
      " avg(num_days_late)   | 151.63868055333333   \n",
      "-RECORD 4------------------------------------\n",
      " department           | DSD/Code Enforcement \n",
      " service_request_type | Storage of Used M... \n",
      " avg(num_days_late)   | 142.11255641500003   \n",
      "-RECORD 5------------------------------------\n",
      " department           | DSD/Code Enforcement \n",
      " service_request_type | Zoning: Recycle Yard \n",
      " avg(num_days_late)   | 135.9285161247979    \n",
      "-RECORD 6------------------------------------\n",
      " department           | DSD/Code Enforcement \n",
      " service_request_type | Donation Containe... \n",
      " avg(num_days_late)   | 131.75610506358709   \n",
      "-RECORD 7------------------------------------\n",
      " department           | DSD/Code Enforcement \n",
      " service_request_type | License Requied U... \n",
      " avg(num_days_late)   | 128.79828704142858   \n",
      "-RECORD 8------------------------------------\n",
      " department           | Trans & Cap Impro... \n",
      " service_request_type | Traffic Signal Gr... \n",
      " avg(num_days_late)   | 101.79846062200002   \n",
      "-RECORD 9------------------------------------\n",
      " department           | Customer Service     \n",
      " service_request_type | Complaint            \n",
      " avg(num_days_late)   | 72.87050230311696    \n",
      "only showing top 10 rows\n",
      "\n"
     ]
    }
   ],
   "source": [
    "####################################################################\n",
    "###### This code works great, don't lose it, do build on it\n",
    "###### You could add code to filter only those cases that are closed for a closer comparison to ravinder\n",
    "#####################################################################\n",
    "\n",
    "(\n",
    "case\n",
    ".groupBy('department','service_request_type')\n",
    ".agg(mean(col('num_days_late')))\n",
    ".sort(mean(('num_days_late')).desc())\n",
    ".show(10, vertical=True)\n",
    ")"
   ]
  },
  {
   "cell_type": "code",
   "execution_count": 61,
   "metadata": {},
   "outputs": [
    {
     "name": "stdout",
     "output_type": "stream",
     "text": [
      "+------------------------+----------------------------------------+---------+-------+\n",
      "|standardized_dept_name  |service_request_type                    |days_late|n_cases|\n",
      "+------------------------+----------------------------------------+---------+-------+\n",
      "|DSD/Code Enforcement    |Zoning: Junk Yards                      |209.4    |174    |\n",
      "|DSD/Code Enforcement    |Labeling for Used Mattress              |162.4    |7      |\n",
      "|DSD/Code Enforcement    |Record Keeping of Used Mattresses       |154.0    |7      |\n",
      "|DSD/Code Enforcement    |Signage Requied for Sale of Used Mattr  |151.6    |12     |\n",
      "|DSD/Code Enforcement    |Storage of Used Mattress                |142.1    |8      |\n",
      "|DSD/Code Enforcement    |Donation Container Enforcement          |141.3    |114    |\n",
      "|DSD/Code Enforcement    |Zoning: Recycle Yard                    |139.0    |141    |\n",
      "|DSD/Code Enforcement    |License Requied Used Mattress Sales     |128.8    |7      |\n",
      "|DSD/Code Enforcement    |Vendors                                 |65.3     |184    |\n",
      "|Customer Service        |Complaint                               |59.9     |1250   |\n",
      "|Solid Waste             |Contracted Service Issues               |56.7     |12     |\n",
      "|DSD/Code Enforcement    |Curbstoning                             |55.1     |200    |\n",
      "|DSD/Code Enforcement    |No Address Posted                       |51.4     |1011   |\n",
      "|DSD/Code Enforcement    |Street Light New Development            |30.9     |27     |\n",
      "|DSD/Code Enforcement    |Used Mattress Inspection                |30.2     |49     |\n",
      "|Solid Waste             |Service Information                     |26.4     |152    |\n",
      "|Animal Care Services    |Animal Permits Request                  |22.1     |3001   |\n",
      "|Solid Waste             |Solid Waste Fees and Charges            |21.5     |4702   |\n",
      "|Animal Care Services    |Aggressive Animal(Critical)             |16.7     |5230   |\n",
      "|DSD/Code Enforcement    |Emergency: Main and Accessory Structures|16.4     |26     |\n",
      "|Parks & Recreation      |Sportfield Lighting                     |15.5     |533    |\n",
      "|DSD/Code Enforcement    |Historical Building (No Permits)        |15.0     |9      |\n",
      "|DSD/Code Enforcement    |Street Light Existing Res Sub Div       |14.9     |633    |\n",
      "|Solid Waste             |Organics Info / Literature Request      |14.7     |1162   |\n",
      "|Parks & Recreation      |Park Building Maint Invest              |13.9     |43     |\n",
      "|Trans & Cap Improvements|Speed Hump Repairs - Emergency          |10.3     |531    |\n",
      "|Solid Waste             |Cart Placement                          |10.3     |1192   |\n",
      "|Solid Waste             |Disability Service Requested            |9.1      |826    |\n",
      "|DSD/Code Enforcement    |Emergency: Accessory Structure Only     |8.8      |10     |\n",
      "|Parks & Recreation      |Electrical                              |8.2      |1145   |\n",
      "|Animal Care Services    |Animal Neglect                          |7.3      |13736  |\n",
      "|Trans & Cap Improvements|Status: On-Going CIMS Projects          |6.3      |356    |\n",
      "|Parks & Recreation      |Tree Removal                            |6.2      |289    |\n",
      "|DSD/Code Enforcement    |Emergency: Main Structure Only          |5.3      |43     |\n",
      "|Solid Waste             |Alley Problems                          |4.5      |58     |\n",
      "|Parks & Recreation      |Painting                                |4.4      |280    |\n",
      "|Parks & Recreation      |Tree Trimming/Maintenance               |4.3      |529    |\n",
      "|Parks & Recreation      |Masonry                                 |4.3      |441    |\n",
      "|Solid Waste             |Request for Commercial Service          |4.1      |332    |\n",
      "|Parks & Recreation      |Fence/Gate Repair                       |4.1      |119    |\n",
      "+------------------------+----------------------------------------+---------+-------+\n",
      "only showing top 40 rows\n",
      "\n"
     ]
    }
   ],
   "source": [
    "# How do number of days late depend on department and request type?\n",
    "(\n",
    "    df.filter(\"case_closed\")\n",
    "#     .filter(\"case_late\")\n",
    "    .groupby(\"standardized_dept_name\", \"service_request_type\")\n",
    "    .agg(avg(\"num_days_late\").alias(\"days_late\"), count(\"*\").alias(\"n_cases\"))\n",
    "    .withColumn(\"days_late\", round(col(\"days_late\"), 1))\n",
    "    .where(col('days_late') > 0)\n",
    "    .sort(desc(\"days_late\"))\n",
    "    .show(40, truncate=False)\n",
    ")\n",
    "\n"
   ]
  },
  {
   "cell_type": "code",
   "execution_count": null,
   "metadata": {},
   "outputs": [],
   "source": []
  }
 ],
 "metadata": {
  "kernelspec": {
   "display_name": "Python 3",
   "language": "python",
   "name": "python3"
  },
  "language_info": {
   "codemirror_mode": {
    "name": "ipython",
    "version": 3
   },
   "file_extension": ".py",
   "mimetype": "text/x-python",
   "name": "python",
   "nbconvert_exporter": "python",
   "pygments_lexer": "ipython3",
   "version": "3.8.8"
  }
 },
 "nbformat": 4,
 "nbformat_minor": 4
}
