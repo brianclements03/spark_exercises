{
 "cells": [
  {
   "cell_type": "code",
   "execution_count": 1,
   "id": "43ea3701",
   "metadata": {},
   "outputs": [
    {
     "name": "stdout",
     "output_type": "stream",
     "text": [
      "[wrangle.py] reading case.csv\n",
      "[wrangle.py] handling data types\n",
      "[wrangle.py] parsing dates\n",
      "[wrangle.py] adding features\n",
      "[wrangle.py] joining departments\n",
      "\n",
      "df shape: (841704, 20)\n",
      "\n",
      "-RECORD 0------------------------------------\n",
      " case_id              | 1014127332           \n",
      " case_opened_date     | 2018-01-01 00:42:00  \n",
      " case_closed_date     | 2018-01-01 12:29:00  \n",
      " case_due_date        | 2020-09-26 00:42:00  \n",
      " case_late            | false                \n",
      " num_days_late        | -998.5087616000001   \n",
      " case_closed          | true                 \n",
      " service_request_type | Stray Animal         \n",
      " SLA_days             | 999.0                \n",
      " case_status          | Closed               \n",
      " source_id            | svcCRMLS             \n",
      " request_address      | 2315  EL PASO ST,... \n",
      " council_district     | 005                  \n",
      " num_weeks_late       | -142.6441088         \n",
      " zipcode              | 78207                \n",
      " case_age             | 219                  \n",
      " days_to_closed       | 0                    \n",
      " case_lifetime        | 0                    \n",
      " department           | Animal Care Services \n",
      " dept_subject_to_SLA  | true                 \n",
      "only showing top 1 row\n",
      "\n"
     ]
    }
   ],
   "source": [
    "import pyspark.sql\n",
    "from pyspark.sql.functions import *\n",
    "\n",
    "import numpy as np\n",
    "import pandas as pd\n",
    "\n",
    "import matplotlib.pyplot as plt\n",
    "import seaborn as sns\n",
    "\n",
    "from wrangle import wrangle_311\n",
    "\n",
    "spark = pyspark.sql.SparkSession.builder.getOrCreate()\n",
    "\n",
    "df = wrangle_311(spark)\n",
    "print(\"\\ndf shape: (%d, %d)\\n\" % (df.count(), len(df.columns)))\n",
    "df.show(1, vertical=True)"
   ]
  },
  {
   "cell_type": "markdown",
   "id": "7a5dcb30",
   "metadata": {},
   "source": [
    "## How many different cases are there, by department?"
   ]
  },
  {
   "cell_type": "code",
   "execution_count": 24,
   "id": "e5185c2d",
   "metadata": {},
   "outputs": [
    {
     "name": "stdout",
     "output_type": "stream",
     "text": [
      "+--------------------+------+\n",
      "|          department| count|\n",
      "+--------------------+------+\n",
      "|         Solid Waste|279270|\n",
      "|Animal Care Services|116915|\n",
      "|Trans & Cap Impro...| 96193|\n",
      "|  Parks & Recreation| 19907|\n",
      "|    Customer Service|  2849|\n",
      "|        Metro Health|  5163|\n",
      "|        City Council|    33|\n",
      "|DSD/Code Enforcement|321374|\n",
      "+--------------------+------+\n",
      "\n"
     ]
    }
   ],
   "source": [
    "(\n",
    "df.groupBy('department')\n",
    "    .count()\n",
    "    .show()\n",
    ")\n",
    "# those are all the cases by dept, trying to get distinct cases"
   ]
  },
  {
   "cell_type": "code",
   "execution_count": 25,
   "id": "2814a943",
   "metadata": {},
   "outputs": [],
   "source": [
    "df.createOrReplaceTempView('df')"
   ]
  },
  {
   "cell_type": "code",
   "execution_count": 30,
   "id": "b330890f",
   "metadata": {},
   "outputs": [
    {
     "name": "stdout",
     "output_type": "stream",
     "text": [
      "+--------------------+--------------------+\n",
      "|          department|Different_case_types|\n",
      "+--------------------+--------------------+\n",
      "|         Solid Waste|                  56|\n",
      "|Animal Care Services|                  14|\n",
      "|Trans & Cap Impro...|                  81|\n",
      "|  Parks & Recreation|                  44|\n",
      "|    Customer Service|                   2|\n",
      "|        Metro Health|                  14|\n",
      "|        City Council|                   2|\n",
      "|DSD/Code Enforcement|                 122|\n",
      "+--------------------+--------------------+\n",
      "\n"
     ]
    }
   ],
   "source": [
    "spark.sql('''\n",
    "SELECT department, COUNT(DISTINCT(df.service_request_type)) as Different_case_types\n",
    "FROM df\n",
    "GROUP BY department\n",
    "''').show()"
   ]
  },
  {
   "cell_type": "markdown",
   "id": "1ffb0d04",
   "metadata": {},
   "source": [
    "## Does the percentage of cases that are late vary by department?"
   ]
  },
  {
   "cell_type": "code",
   "execution_count": 48,
   "id": "c706a746",
   "metadata": {
    "scrolled": true
   },
   "outputs": [
    {
     "name": "stdout",
     "output_type": "stream",
     "text": [
      "-RECORD 0--------------------------------\n",
      " department       | Solid Waste          \n",
      " avg(case_closed) | 0.9942349697425431   \n",
      "-RECORD 1--------------------------------\n",
      " department       | Animal Care Services \n",
      " avg(case_closed) | 0.9959885386819485   \n",
      "-RECORD 2--------------------------------\n",
      " department       | Trans & Cap Impro... \n",
      " avg(case_closed) | 0.9768070441716133   \n",
      "-RECORD 3--------------------------------\n",
      " department       | Parks & Recreation   \n",
      " avg(case_closed) | 0.980107499874416    \n",
      "-RECORD 4--------------------------------\n",
      " department       | Customer Service     \n",
      " avg(case_closed) | 0.5910845910845911   \n",
      "-RECORD 5--------------------------------\n",
      " department       | Metro Health         \n",
      " avg(case_closed) | 0.9854735618826264   \n",
      "-RECORD 6--------------------------------\n",
      " department       | City Council         \n",
      " avg(case_closed) | 0.12121212121212122  \n",
      "-RECORD 7--------------------------------\n",
      " department       | DSD/Code Enforcement \n",
      " avg(case_closed) | 0.9622402559012241   \n",
      "\n"
     ]
    }
   ],
   "source": [
    "(\n",
    "df.withColumn(\"case_closed\",df.case_closed.cast('int'))\n",
    "    # note how we check the ouput of just this code to make sure before proceeding\n",
    ".groupBy('department')\n",
    "    .agg(mean('case_closed'))\n",
    "#     .orderBy(\"true\")\n",
    ".show(vertical=True)\n",
    ")"
   ]
  },
  {
   "cell_type": "code",
   "execution_count": 58,
   "id": "1103bb70",
   "metadata": {},
   "outputs": [],
   "source": [
    "answer2 = (\n",
    "df.withColumn(\"case_closed\",df.case_closed.cast('int'))\n",
    "    # note how we check the ouput of just this code to make sure before proceeding\n",
    ".groupBy('department')\n",
    "    .agg(mean('case_closed').alias('percent_case_closed'))\n",
    "#     .orderBy(\"true\")\n",
    ".toPandas()\n",
    ")"
   ]
  },
  {
   "cell_type": "code",
   "execution_count": 59,
   "id": "5f635ba5",
   "metadata": {},
   "outputs": [
    {
     "data": {
      "text/html": [
       "<div>\n",
       "<style scoped>\n",
       "    .dataframe tbody tr th:only-of-type {\n",
       "        vertical-align: middle;\n",
       "    }\n",
       "\n",
       "    .dataframe tbody tr th {\n",
       "        vertical-align: top;\n",
       "    }\n",
       "\n",
       "    .dataframe thead th {\n",
       "        text-align: right;\n",
       "    }\n",
       "</style>\n",
       "<table border=\"1\" class=\"dataframe\">\n",
       "  <thead>\n",
       "    <tr style=\"text-align: right;\">\n",
       "      <th></th>\n",
       "      <th>percent_case_closed</th>\n",
       "    </tr>\n",
       "    <tr>\n",
       "      <th>department</th>\n",
       "      <th></th>\n",
       "    </tr>\n",
       "  </thead>\n",
       "  <tbody>\n",
       "    <tr>\n",
       "      <th>Solid Waste</th>\n",
       "      <td>0.994235</td>\n",
       "    </tr>\n",
       "    <tr>\n",
       "      <th>Animal Care Services</th>\n",
       "      <td>0.995989</td>\n",
       "    </tr>\n",
       "    <tr>\n",
       "      <th>Trans &amp; Cap Improvements</th>\n",
       "      <td>0.976807</td>\n",
       "    </tr>\n",
       "    <tr>\n",
       "      <th>Parks &amp; Recreation</th>\n",
       "      <td>0.980107</td>\n",
       "    </tr>\n",
       "    <tr>\n",
       "      <th>Customer Service</th>\n",
       "      <td>0.591085</td>\n",
       "    </tr>\n",
       "    <tr>\n",
       "      <th>Metro Health</th>\n",
       "      <td>0.985474</td>\n",
       "    </tr>\n",
       "    <tr>\n",
       "      <th>City Council</th>\n",
       "      <td>0.121212</td>\n",
       "    </tr>\n",
       "    <tr>\n",
       "      <th>DSD/Code Enforcement</th>\n",
       "      <td>0.962240</td>\n",
       "    </tr>\n",
       "  </tbody>\n",
       "</table>\n",
       "</div>"
      ],
      "text/plain": [
       "                          percent_case_closed\n",
       "department                                   \n",
       "Solid Waste                          0.994235\n",
       "Animal Care Services                 0.995989\n",
       "Trans & Cap Improvements             0.976807\n",
       "Parks & Recreation                   0.980107\n",
       "Customer Service                     0.591085\n",
       "Metro Health                         0.985474\n",
       "City Council                         0.121212\n",
       "DSD/Code Enforcement                 0.962240"
      ]
     },
     "execution_count": 59,
     "metadata": {},
     "output_type": "execute_result"
    }
   ],
   "source": [
    "answer2.set_index('department')"
   ]
  },
  {
   "cell_type": "code",
   "execution_count": 61,
   "id": "d02d3565",
   "metadata": {},
   "outputs": [
    {
     "data": {
      "text/plain": [
       "Text(0.5, 1.0, 'Percent Case Closed By Department')"
      ]
     },
     "execution_count": 61,
     "metadata": {},
     "output_type": "execute_result"
    },
    {
     "data": {
      "image/png": "[encoded data removed]",
      "text/plain": [
       "<Figure size 1008x360 with 1 Axes>"
      ]
     },
     "metadata": {
      "needs_background": "light"
     },
     "output_type": "display_data"
    }
   ],
   "source": [
    "(\n",
    "answer2.set_index(\"department\")\n",
    "    .percent_case_closed.sort_values(ascending=False)\n",
    "    .plot.barh(width=1, edgecolor=\"black\", figsize=(14, 5))\n",
    ")\n",
    "\n",
    "plt.xlabel(\"Percent Case Closed\")\n",
    "plt.ylabel(\"\")\n",
    "plt.title(\"Percent Case Closed By Department\")\n"
   ]
  },
  {
   "cell_type": "code",
   "execution_count": null,
   "id": "dcf70953",
   "metadata": {},
   "outputs": [],
   "source": []
  },
  {
   "cell_type": "markdown",
   "id": "10a8dafe",
   "metadata": {},
   "source": [
    "## On average, how late are the late cases by department?"
   ]
  },
  {
   "cell_type": "code",
   "execution_count": 66,
   "id": "2f9b3dc8",
   "metadata": {},
   "outputs": [],
   "source": [
    "# (\n",
    "# df.where(\"case_late\")\n",
    "#     # note how we check the ouput of just this code to make sure before proceeding\n",
    "# .groupBy('department')\n",
    "#     .agg(mean('num_days_late'))\n",
    "# #     .orderBy(\"true\")\n",
    "# .show(vertical=True)\n",
    "# )\n",
    "\n",
    "answer3 = (\n",
    "df.where(\"case_late\")\n",
    "    # note how we check the ouput of just this code to make sure before proceeding\n",
    ".groupBy('department')\n",
    "    .agg(mean('num_days_late').alias('mean_days_late'))\n",
    "    .toPandas()\n",
    "# .show(vertical=True)\n",
    ")"
   ]
  },
  {
   "cell_type": "code",
   "execution_count": 67,
   "id": "2904827c",
   "metadata": {},
   "outputs": [
    {
     "data": {
      "text/html": [
       "<div>\n",
       "<style scoped>\n",
       "    .dataframe tbody tr th:only-of-type {\n",
       "        vertical-align: middle;\n",
       "    }\n",
       "\n",
       "    .dataframe tbody tr th {\n",
       "        vertical-align: top;\n",
       "    }\n",
       "\n",
       "    .dataframe thead th {\n",
       "        text-align: right;\n",
       "    }\n",
       "</style>\n",
       "<table border=\"1\" class=\"dataframe\">\n",
       "  <thead>\n",
       "    <tr style=\"text-align: right;\">\n",
       "      <th></th>\n",
       "      <th>department</th>\n",
       "      <th>mean_days_late</th>\n",
       "    </tr>\n",
       "  </thead>\n",
       "  <tbody>\n",
       "    <tr>\n",
       "      <th>0</th>\n",
       "      <td>Solid Waste</td>\n",
       "      <td>7.186822</td>\n",
       "    </tr>\n",
       "    <tr>\n",
       "      <th>1</th>\n",
       "      <td>Animal Care Services</td>\n",
       "      <td>23.458633</td>\n",
       "    </tr>\n",
       "    <tr>\n",
       "      <th>2</th>\n",
       "      <td>Trans &amp; Cap Improvements</td>\n",
       "      <td>10.603065</td>\n",
       "    </tr>\n",
       "    <tr>\n",
       "      <th>3</th>\n",
       "      <td>Parks &amp; Recreation</td>\n",
       "      <td>22.348910</td>\n",
       "    </tr>\n",
       "    <tr>\n",
       "      <th>4</th>\n",
       "      <td>Customer Service</td>\n",
       "      <td>87.683859</td>\n",
       "    </tr>\n",
       "    <tr>\n",
       "      <th>5</th>\n",
       "      <td>Metro Health</td>\n",
       "      <td>6.543813</td>\n",
       "    </tr>\n",
       "    <tr>\n",
       "      <th>6</th>\n",
       "      <td>DSD/Code Enforcement</td>\n",
       "      <td>49.384287</td>\n",
       "    </tr>\n",
       "  </tbody>\n",
       "</table>\n",
       "</div>"
      ],
      "text/plain": [
       "                 department  mean_days_late\n",
       "0               Solid Waste        7.186822\n",
       "1      Animal Care Services       23.458633\n",
       "2  Trans & Cap Improvements       10.603065\n",
       "3        Parks & Recreation       22.348910\n",
       "4          Customer Service       87.683859\n",
       "5              Metro Health        6.543813\n",
       "6      DSD/Code Enforcement       49.384287"
      ]
     },
     "execution_count": 67,
     "metadata": {},
     "output_type": "execute_result"
    }
   ],
   "source": [
    "answer3"
   ]
  },
  {
   "cell_type": "code",
   "execution_count": 70,
   "id": "b4a269c4",
   "metadata": {},
   "outputs": [
    {
     "data": {
      "text/plain": [
       "(array([0, 1, 2, 3, 4, 5, 6]),\n",
       " [Text(0, 0, 'Solid Waste'),\n",
       "  Text(1, 0, 'Animal Care Services'),\n",
       "  Text(2, 0, 'Trans & Cap Improvements'),\n",
       "  Text(3, 0, 'Parks & Recreation'),\n",
       "  Text(4, 0, 'Customer Service'),\n",
       "  Text(5, 0, 'Metro Health'),\n",
       "  Text(6, 0, 'DSD/Code Enforcement')])"
      ]
     },
     "execution_count": 70,
     "metadata": {},
     "output_type": "execute_result"
    },
    {
     "data": {
      "image/png": "[encoded data removed]",
      "text/plain": [
       "<Figure size 432x288 with 1 Axes>"
      ]
     },
     "metadata": {
      "needs_background": "light"
     },
     "output_type": "display_data"
    }
   ],
   "source": [
    "sns.barplot(data=answer3, x='department', y='mean_days_late')\n",
    "plt.xticks(rotation=45)"
   ]
  },
  {
   "cell_type": "markdown",
   "id": "405616c2",
   "metadata": {},
   "source": [
    "## What is the service type that is the most late? Just for Parks & Rec?"
   ]
  },
  {
   "cell_type": "code",
   "execution_count": 103,
   "id": "32ca0b6b",
   "metadata": {},
   "outputs": [
    {
     "name": "stdout",
     "output_type": "stream",
     "text": [
      "+--------------------+------------------+\n",
      "|service_request_type|     avg_days_late|\n",
      "+--------------------+------------------+\n",
      "|  Zoning: Junk Yards|175.95636210420943|\n",
      "|Labeling for Used...|162.43032902285717|\n",
      "|Record Keeping of...|153.99724039428568|\n",
      "|Signage Requied f...|151.63868055333333|\n",
      "|Storage of Used M...|142.11255641500003|\n",
      "|Zoning: Recycle Yard|135.92851612479797|\n",
      "|Donation Containe...|131.75610506358706|\n",
      "|License Requied U...|128.79828704142858|\n",
      "|Traffic Signal Gr...| 77.90021217000002|\n",
      "|           Complaint|  72.5179093265971|\n",
      "+--------------------+------------------+\n",
      "\n"
     ]
    }
   ],
   "source": [
    "(\n",
    "df.groupBy('service_request_type')\n",
    "    .agg(mean(df.num_days_late).alias('avg_days_late'))\n",
    "#     .where('avg_days_late' > 0)\n",
    "    .sort(col('avg_days_late').desc()).limit(10)#.desc('avg_days_late')\n",
    "    .show()\n",
    ")\n",
    "\n"
   ]
  },
  {
   "cell_type": "code",
   "execution_count": 106,
   "id": "651ead90",
   "metadata": {},
   "outputs": [
    {
     "name": "stdout",
     "output_type": "stream",
     "text": [
      "+--------------------+\n",
      "|          department|\n",
      "+--------------------+\n",
      "|         Solid Waste|\n",
      "|Animal Care Services|\n",
      "|Trans & Cap Impro...|\n",
      "|  Parks & Recreation|\n",
      "|    Customer Service|\n",
      "|        Metro Health|\n",
      "|        City Council|\n",
      "|DSD/Code Enforcement|\n",
      "+--------------------+\n",
      "\n"
     ]
    }
   ],
   "source": [
    "df.select('department').distinct().show()"
   ]
  },
  {
   "cell_type": "code",
   "execution_count": 107,
   "id": "4ec80d4a",
   "metadata": {},
   "outputs": [
    {
     "name": "stdout",
     "output_type": "stream",
     "text": [
      "+--------------------+------------------+\n",
      "|service_request_type|     avg_days_late|\n",
      "+--------------------+------------------+\n",
      "|Reservation Assis...|       66.03116319|\n",
      "|Park Building Mai...|24.322320840895838|\n",
      "| Sportfield Lighting|  19.3770910626007|\n",
      "|          Electrical|11.750504897402122|\n",
      "|Amenity Park Impr...|10.114974371919642|\n",
      "|        Tree Removal|5.6582362742885906|\n",
      "|            Painting| 4.354412358281139|\n",
      "|Tree Trimming/Mai...| 4.241499056964816|\n",
      "|General Building ...| 4.191945529579545|\n",
      "|             Masonry|4.1756982508859055|\n",
      "+--------------------+------------------+\n",
      "\n"
     ]
    }
   ],
   "source": [
    "(\n",
    "df.filter(df['department']=='Parks & Recreation')\n",
    "    .groupBy('service_request_type')\n",
    "    .agg(mean(df.num_days_late).alias('avg_days_late'))\n",
    "#     .where('avg_days_late' > 0)\n",
    "    .sort(col('avg_days_late').desc()).limit(10)#.desc('avg_days_late')\n",
    "    .show()\n",
    ")\n",
    "\n",
    "\n"
   ]
  },
  {
   "cell_type": "markdown",
   "id": "e9571295",
   "metadata": {},
   "source": [
    "## For the DSD/Code Enforcement department, what are the most common service request types? Look at other departments too.\n",
    "## Does whether or not its a weekend matter for when a case is opened/closed?\n",
    "## On average, how many cases are opened a day for the Customer Service department?\n",
    "## Does the number of service requests for the solid waste department vary by day of the week?"
   ]
  }
 ],
 "metadata": {
  "kernelspec": {
   "display_name": "Python 3",
   "language": "python",
   "name": "python3"
  },
  "language_info": {
   "codemirror_mode": {
    "name": "ipython",
    "version": 3
   },
   "file_extension": ".py",
   "mimetype": "text/x-python",
   "name": "python",
   "nbconvert_exporter": "python",
   "pygments_lexer": "ipython3",
   "version": "3.8.8"
  }
 },
 "nbformat": 4,
 "nbformat_minor": 5
}
