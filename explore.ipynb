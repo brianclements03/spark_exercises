{
 "cells": [
  {
   "cell_type": "code",
   "execution_count": 1,
   "id": "e12de18e",
   "metadata": {},
   "outputs": [
    {
     "name": "stdout",
     "output_type": "stream",
     "text": [
      "[wrangle.py] reading case.csv\n",
      "[wrangle.py] handling data types\n",
      "[wrangle.py] parsing dates\n",
      "[wrangle.py] adding features\n",
      "[wrangle.py] joining departments\n",
      "\n",
      "df shape: (841704, 20)\n",
      "\n",
      "-RECORD 0------------------------------------\n",
      " case_id              | 1014127332           \n",
      " case_opened_date     | 2018-01-01 00:42:00  \n",
      " case_closed_date     | 2018-01-01 12:29:00  \n",
      " case_due_date        | 2020-09-26 00:42:00  \n",
      " case_late            | false                \n",
      " num_days_late        | -998.5087616000001   \n",
      " case_closed          | true                 \n",
      " service_request_type | Stray Animal         \n",
      " SLA_days             | 999.0                \n",
      " case_status          | Closed               \n",
      " source_id            | svcCRMLS             \n",
      " request_address      | 2315  EL PASO ST,... \n",
      " council_district     | 005                  \n",
      " num_weeks_late       | -142.6441088         \n",
      " zipcode              | 78207                \n",
      " case_age             | 219                  \n",
      " days_to_closed       | 0                    \n",
      " case_lifetime        | 0                    \n",
      " department           | Animal Care Services \n",
      " dept_subject_to_SLA  | true                 \n",
      "only showing top 1 row\n",
      "\n"
     ]
    }
   ],
   "source": [
    "import pyspark.sql\n",
    "from pyspark.sql.functions import *\n",
    "\n",
    "import numpy as np\n",
    "import pandas as pd\n",
    "\n",
    "import matplotlib.pyplot as plt\n",
    "import seaborn as sns\n",
    "\n",
    "from wrangle import wrangle_311\n",
    "\n",
    "spark = pyspark.sql.SparkSession.builder.getOrCreate()\n",
    "\n",
    "df = wrangle_311(spark)\n",
    "print(\"\\ndf shape: (%d, %d)\\n\" % (df.count(), len(df.columns)))\n",
    "df.show(1, vertical=True)"
   ]
  },
  {
   "cell_type": "markdown",
   "id": "09ede035",
   "metadata": {},
   "source": [
    "## How many different cases are there, by department?"
   ]
  },
  {
   "cell_type": "code",
   "execution_count": 24,
   "id": "46bf7b8c",
   "metadata": {},
   "outputs": [
    {
     "name": "stdout",
     "output_type": "stream",
     "text": [
      "+--------------------+------+\n",
      "|          department| count|\n",
      "+--------------------+------+\n",
      "|         Solid Waste|279270|\n",
      "|Animal Care Services|116915|\n",
      "|Trans & Cap Impro...| 96193|\n",
      "|  Parks & Recreation| 19907|\n",
      "|    Customer Service|  2849|\n",
      "|        Metro Health|  5163|\n",
      "|        City Council|    33|\n",
      "|DSD/Code Enforcement|321374|\n",
      "+--------------------+------+\n",
      "\n"
     ]
    }
   ],
   "source": [
    "(\n",
    "df.groupBy('department')\n",
    "    .count()\n",
    "    .show()\n",
    ")\n",
    "# those are all the cases by dept, trying to get distinct cases"
   ]
  },
  {
   "cell_type": "code",
   "execution_count": 25,
   "id": "8fd6620a",
   "metadata": {},
   "outputs": [],
   "source": [
    "df.createOrReplaceTempView('df')"
   ]
  },
  {
   "cell_type": "code",
   "execution_count": 30,
   "id": "15d95937",
   "metadata": {},
   "outputs": [
    {
     "name": "stdout",
     "output_type": "stream",
     "text": [
      "+--------------------+--------------------+\n",
      "|          department|Different_case_types|\n",
      "+--------------------+--------------------+\n",
      "|         Solid Waste|                  56|\n",
      "|Animal Care Services|                  14|\n",
      "|Trans & Cap Impro...|                  81|\n",
      "|  Parks & Recreation|                  44|\n",
      "|    Customer Service|                   2|\n",
      "|        Metro Health|                  14|\n",
      "|        City Council|                   2|\n",
      "|DSD/Code Enforcement|                 122|\n",
      "+--------------------+--------------------+\n",
      "\n"
     ]
    }
   ],
   "source": [
    "spark.sql('''\n",
    "SELECT department, COUNT(DISTINCT(df.service_request_type)) as Different_case_types\n",
    "FROM df\n",
    "GROUP BY department\n",
    "''').show()"
   ]
  },
  {
   "cell_type": "markdown",
   "id": "5f7e70ae",
   "metadata": {},
   "source": [
    "## Does the percentage of cases that are late vary by department?"
   ]
  },
  {
   "cell_type": "code",
   "execution_count": 48,
   "id": "33a520ab",
   "metadata": {
    "scrolled": true
   },
   "outputs": [
    {
     "name": "stdout",
     "output_type": "stream",
     "text": [
      "-RECORD 0--------------------------------\n",
      " department       | Solid Waste          \n",
      " avg(case_closed) | 0.9942349697425431   \n",
      "-RECORD 1--------------------------------\n",
      " department       | Animal Care Services \n",
      " avg(case_closed) | 0.9959885386819485   \n",
      "-RECORD 2--------------------------------\n",
      " department       | Trans & Cap Impro... \n",
      " avg(case_closed) | 0.9768070441716133   \n",
      "-RECORD 3--------------------------------\n",
      " department       | Parks & Recreation   \n",
      " avg(case_closed) | 0.980107499874416    \n",
      "-RECORD 4--------------------------------\n",
      " department       | Customer Service     \n",
      " avg(case_closed) | 0.5910845910845911   \n",
      "-RECORD 5--------------------------------\n",
      " department       | Metro Health         \n",
      " avg(case_closed) | 0.9854735618826264   \n",
      "-RECORD 6--------------------------------\n",
      " department       | City Council         \n",
      " avg(case_closed) | 0.12121212121212122  \n",
      "-RECORD 7--------------------------------\n",
      " department       | DSD/Code Enforcement \n",
      " avg(case_closed) | 0.9622402559012241   \n",
      "\n"
     ]
    }
   ],
   "source": [
    "(\n",
    "df.withColumn(\"case_closed\",df.case_closed.cast('int'))\n",
    "    # note how we check the ouput of just this code to make sure before proceeding\n",
    ".groupBy('department')\n",
    "    .agg(mean('case_closed'))\n",
    "#     .orderBy(\"true\")\n",
    ".show(vertical=True)\n",
    ")"
   ]
  },
  {
   "cell_type": "code",
   "execution_count": 58,
   "id": "deaf9de7",
   "metadata": {},
   "outputs": [],
   "source": [
    "answer2 = (\n",
    "df.withColumn(\"case_closed\",df.case_closed.cast('int'))\n",
    "    # note how we check the ouput of just this code to make sure before proceeding\n",
    ".groupBy('department')\n",
    "    .agg(mean('case_closed').alias('percent_case_closed'))\n",
    "#     .orderBy(\"true\")\n",
    ".toPandas()\n",
    ")"
   ]
  },
  {
   "cell_type": "code",
   "execution_count": 59,
   "id": "14e4cc06",
   "metadata": {},
   "outputs": [
    {
     "data": {
      "text/html": [
       "<div>\n",
       "<style scoped>\n",
       "    .dataframe tbody tr th:only-of-type {\n",
       "        vertical-align: middle;\n",
       "    }\n",
       "\n",
       "    .dataframe tbody tr th {\n",
       "        vertical-align: top;\n",
       "    }\n",
       "\n",
       "    .dataframe thead th {\n",
       "        text-align: right;\n",
       "    }\n",
       "</style>\n",
       "<table border=\"1\" class=\"dataframe\">\n",
       "  <thead>\n",
       "    <tr style=\"text-align: right;\">\n",
       "      <th></th>\n",
       "      <th>percent_case_closed</th>\n",
       "    </tr>\n",
       "    <tr>\n",
       "      <th>department</th>\n",
       "      <th></th>\n",
       "    </tr>\n",
       "  </thead>\n",
       "  <tbody>\n",
       "    <tr>\n",
       "      <th>Solid Waste</th>\n",
       "      <td>0.994235</td>\n",
       "    </tr>\n",
       "    <tr>\n",
       "      <th>Animal Care Services</th>\n",
       "      <td>0.995989</td>\n",
       "    </tr>\n",
       "    <tr>\n",
       "      <th>Trans &amp; Cap Improvements</th>\n",
       "      <td>0.976807</td>\n",
       "    </tr>\n",
       "    <tr>\n",
       "      <th>Parks &amp; Recreation</th>\n",
       "      <td>0.980107</td>\n",
       "    </tr>\n",
       "    <tr>\n",
       "      <th>Customer Service</th>\n",
       "      <td>0.591085</td>\n",
       "    </tr>\n",
       "    <tr>\n",
       "      <th>Metro Health</th>\n",
       "      <td>0.985474</td>\n",
       "    </tr>\n",
       "    <tr>\n",
       "      <th>City Council</th>\n",
       "      <td>0.121212</td>\n",
       "    </tr>\n",
       "    <tr>\n",
       "      <th>DSD/Code Enforcement</th>\n",
       "      <td>0.962240</td>\n",
       "    </tr>\n",
       "  </tbody>\n",
       "</table>\n",
       "</div>"
      ],
      "text/plain": [
       "                          percent_case_closed\n",
       "department                                   \n",
       "Solid Waste                          0.994235\n",
       "Animal Care Services                 0.995989\n",
       "Trans & Cap Improvements             0.976807\n",
       "Parks & Recreation                   0.980107\n",
       "Customer Service                     0.591085\n",
       "Metro Health                         0.985474\n",
       "City Council                         0.121212\n",
       "DSD/Code Enforcement                 0.962240"
      ]
     },
     "execution_count": 59,
     "metadata": {},
     "output_type": "execute_result"
    }
   ],
   "source": [
    "answer2.set_index('department')"
   ]
  },
  {
   "cell_type": "code",
   "execution_count": 61,
   "id": "ddc0f5f8",
   "metadata": {},
   "outputs": [
    {
     "data": {
      "text/plain": [
       "Text(0.5, 1.0, 'Percent Case Closed By Department')"
      ]
     },
     "execution_count": 61,
     "metadata": {},
     "output_type": "execute_result"
    },
    {
     "data": {
      "image/png": "[encoded data removed]",
      "text/plain": [
       "<Figure size 1008x360 with 1 Axes>"
      ]
     },
     "metadata": {
      "needs_background": "light"
     },
     "output_type": "display_data"
    }
   ],
   "source": [
    "(\n",
    "answer2.set_index(\"department\")\n",
    "    .percent_case_closed.sort_values(ascending=False)\n",
    "    .plot.barh(width=1, edgecolor=\"black\", figsize=(14, 5))\n",
    ")\n",
    "\n",
    "plt.xlabel(\"Percent Case Closed\")\n",
    "plt.ylabel(\"\")\n",
    "plt.title(\"Percent Case Closed By Department\")\n"
   ]
  },
  {
   "cell_type": "code",
   "execution_count": null,
   "id": "5b2759c5",
   "metadata": {},
   "outputs": [],
   "source": []
  },
  {
   "cell_type": "markdown",
   "id": "ad427662",
   "metadata": {},
   "source": [
    "## On average, how late are the late cases by department?\n",
    "## What is the service type that is the most late? Just for Parks & Rec?\n",
    "## For the DSD/Code Enforcement department, what are the most common service request types? Look at other departments too.\n",
    "## Does whether or not its a weekend matter for when a case is opened/closed?\n",
    "## On average, how many cases are opened a day for the Customer Service department?\n",
    "## Does the number of service requests for the solid waste department vary by day of the week?"
   ]
  }
 ],
 "metadata": {
  "kernelspec": {
   "display_name": "Python 3",
   "language": "python",
   "name": "python3"
  },
  "language_info": {
   "codemirror_mode": {
    "name": "ipython",
    "version": 3
   },
   "file_extension": ".py",
   "mimetype": "text/x-python",
   "name": "python",
   "nbconvert_exporter": "python",
   "pygments_lexer": "ipython3",
   "version": "3.8.8"
  }
 },
 "nbformat": 4,
 "nbformat_minor": 5
}
