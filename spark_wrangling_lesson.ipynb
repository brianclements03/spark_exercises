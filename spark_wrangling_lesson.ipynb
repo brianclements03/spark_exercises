{
 "cells": [
  {
   "cell_type": "markdown",
   "metadata": {},
   "source": [
    "### Data Wrangling\n",
    "\n",
    "https://docs.google.com/presentation/d/1v54Tr4POZj9K4zsaHOn7U22rzdSlTXsyCgE5lfhd-rA/edit?usp=sharing"
   ]
  },
  {
   "cell_type": "code",
   "execution_count": 1,
   "metadata": {},
   "outputs": [],
   "source": [
    "from pyspark.sql import SparkSession\n",
    "from pyspark.sql.functions import *\n",
    "\n",
    "spark = SparkSession.builder.getOrCreate()"
   ]
  },
  {
   "cell_type": "markdown",
   "metadata": {},
   "source": [
    "#### Read data "
   ]
  },
  {
   "cell_type": "markdown",
   "metadata": {},
   "source": [
    "We will use San Antonio's 311 call data for this lesson and exercises. Dowload the CSV data from Google classroom\n",
    "\n",
    "https://classroom.google.com/u/0/w/Mzg3MTg5NzU1Njk1/tc/Mzg3MTg5NzU1NzE1"
   ]
  },
  {
   "cell_type": "code",
   "execution_count": 2,
   "metadata": {},
   "outputs": [],
   "source": [
    "# Read in CSV file \n",
    "source = (spark.read.csv(\"source.csv\",\n",
    "                     sep=\",\",\n",
    "                     header=True,\n",
    "                     inferSchema=True)\n",
    "     )"
   ]
  },
  {
   "cell_type": "code",
   "execution_count": 3,
   "metadata": {},
   "outputs": [
    {
     "data": {
      "text/plain": [
       "DataFrame[source_id: string, source_username: string]"
      ]
     },
     "execution_count": 3,
     "metadata": {},
     "output_type": "execute_result"
    }
   ],
   "source": [
    "# Another way to read in data:\n",
    "\n",
    "(\n",
    "    spark.read.format(\"csv\")\n",
    "    .option(\"sep\", \",\")\n",
    "    .option(\"inferSchema\", True)\n",
    "    .option(\"header\", True)\n",
    "    .load(\"source.csv\")\n",
    ")"
   ]
  },
  {
   "cell_type": "markdown",
   "metadata": {},
   "source": [
    "#### Data Schemas\n",
    "Spark includes a concept of a data schema  \n",
    "Specify the types of our data ahead of time"
   ]
  },
  {
   "cell_type": "code",
   "execution_count": 4,
   "metadata": {},
   "outputs": [],
   "source": [
    "from pyspark.sql.types import StructType, StructField, StringType\n",
    "\n",
    "schema = StructType(\n",
    "    [\n",
    "        StructField(\"source_id\", StringType()),\n",
    "        StructField(\"source_username\", StringType()),\n",
    "    ]\n",
    ")\n",
    "\n",
    "\n",
    "# Read csv, but now we specify the schema:\n",
    "\n",
    "source = spark.read.csv(\"source.csv\", header=True, schema=schema)"
   ]
  },
  {
   "cell_type": "code",
   "execution_count": 5,
   "metadata": {},
   "outputs": [
    {
     "name": "stdout",
     "output_type": "stream",
     "text": [
      "root\n",
      " |-- source_id: string (nullable = true)\n",
      " |-- source_username: string (nullable = true)\n",
      "\n"
     ]
    }
   ],
   "source": [
    "source.printSchema()"
   ]
  },
  {
   "cell_type": "markdown",
   "metadata": {},
   "source": [
    "#### Writing data"
   ]
  },
  {
   "cell_type": "code",
   "execution_count": 6,
   "metadata": {},
   "outputs": [],
   "source": [
    "# write data to a destination using .write property\n",
    "\n",
    "# source.write.json(\"source_json.json\", mode=\"overwrite\")"
   ]
  },
  {
   "cell_type": "markdown",
   "metadata": {},
   "source": [
    "#### Data Preparation"
   ]
  },
  {
   "cell_type": "code",
   "execution_count": 7,
   "metadata": {},
   "outputs": [],
   "source": [
    "# Read the case.csv file\n",
    "\n",
    "df = spark.read.csv(\"case.csv\", header=True, inferSchema=True)"
   ]
  },
  {
   "cell_type": "code",
   "execution_count": 8,
   "metadata": {},
   "outputs": [
    {
     "data": {
      "text/plain": [
       "(14, 841704)"
      ]
     },
     "execution_count": 8,
     "metadata": {},
     "output_type": "execute_result"
    }
   ],
   "source": [
    "# shape of dataframe\n",
    "len(df.columns), df.count() "
   ]
  },
  {
   "cell_type": "code",
   "execution_count": 9,
   "metadata": {},
   "outputs": [
    {
     "name": "stdout",
     "output_type": "stream",
     "text": [
      "-RECORD 0------------------------------------\n",
      " case_id              | 1014127332           \n",
      " case_opened_date     | 1/1/18 0:42          \n",
      " case_closed_date     | 1/1/18 12:29         \n",
      " SLA_due_date         | 9/26/20 0:42         \n",
      " case_late            | NO                   \n",
      " num_days_late        | -998.5087616000001   \n",
      " case_closed          | YES                  \n",
      " dept_division        | Field Operations     \n",
      " service_request_type | Stray Animal         \n",
      " SLA_days             | 999.0                \n",
      " case_status          | Closed               \n",
      " source_id            | svcCRMLS             \n",
      " request_address      | 2315  EL PASO ST,... \n",
      " council_district     | 5                    \n",
      "-RECORD 1------------------------------------\n",
      " case_id              | 1014127333           \n",
      " case_opened_date     | 1/1/18 0:46          \n",
      " case_closed_date     | 1/3/18 8:11          \n",
      " SLA_due_date         | 1/5/18 8:30          \n",
      " case_late            | NO                   \n",
      " num_days_late        | -2.0126041669999997  \n",
      " case_closed          | YES                  \n",
      " dept_division        | Storm Water          \n",
      " service_request_type | Removal Of Obstru... \n",
      " SLA_days             | 4.322222222          \n",
      " case_status          | Closed               \n",
      " source_id            | svcCRMSS             \n",
      " request_address      | 2215  GOLIAD RD, ... \n",
      " council_district     | 3                    \n",
      "-RECORD 2------------------------------------\n",
      " case_id              | 1014127334           \n",
      " case_opened_date     | 1/1/18 0:48          \n",
      " case_closed_date     | 1/2/18 7:57          \n",
      " SLA_due_date         | 1/5/18 8:30          \n",
      " case_late            | NO                   \n",
      " num_days_late        | -3.022337963         \n",
      " case_closed          | YES                  \n",
      " dept_division        | Storm Water          \n",
      " service_request_type | Removal Of Obstru... \n",
      " SLA_days             | 4.320729167          \n",
      " case_status          | Closed               \n",
      " source_id            | svcCRMSS             \n",
      " request_address      | 102  PALFREY ST W... \n",
      " council_district     | 3                    \n",
      "only showing top 3 rows\n",
      "\n"
     ]
    }
   ],
   "source": [
    "# look at first three records\n",
    "df.show(3, vertical=True)"
   ]
  },
  {
   "cell_type": "code",
   "execution_count": 10,
   "metadata": {
    "scrolled": true
   },
   "outputs": [
    {
     "data": {
      "text/plain": [
       "[('case_id', 'int'),\n",
       " ('case_opened_date', 'string'),\n",
       " ('case_closed_date', 'string'),\n",
       " ('SLA_due_date', 'string'),\n",
       " ('case_late', 'string'),\n",
       " ('num_days_late', 'double'),\n",
       " ('case_closed', 'string'),\n",
       " ('dept_division', 'string'),\n",
       " ('service_request_type', 'string'),\n",
       " ('SLA_days', 'double'),\n",
       " ('case_status', 'string'),\n",
       " ('source_id', 'string'),\n",
       " ('request_address', 'string'),\n",
       " ('council_district', 'int')]"
      ]
     },
     "execution_count": 10,
     "metadata": {},
     "output_type": "execute_result"
    }
   ],
   "source": [
    "#datatypes?\n",
    "df.dtypes"
   ]
  },
  {
   "cell_type": "markdown",
   "metadata": {},
   "source": [
    "**Things to do:**\n",
    "\n",
    "1. **Rename Columns:**\n",
    "    - 'SLA_due_date -> case_due_date\n",
    "\n",
    "\n",
    "\n",
    "2. **Correct Data Types:**\n",
    "    - case_closed and case_late to boolean\n",
    "    - council_district as a string\n",
    "    - case_opened_date, case_closed_date and case_due_date to datetime format\n",
    "\n",
    "\n",
    "3. **Data Transformation:**\n",
    "    - request_address: trim and lowercase\n",
    "    - format council district with leading zeros\n",
    "    - convert the number of days a case is late to a number of weeks\n",
    "    \n",
    "    \n",
    "4. **New features:**\n",
    "    - zip_code : extract from address\n",
    "    - case_age \n",
    "    - days_to_closed\n",
    "    - case_lifetime\n",
    "    \n",
    "    \n",
    "5. **Join cases data with department data:**\n"
   ]
  },
  {
   "cell_type": "markdown",
   "metadata": {},
   "source": [
    "#### Rename Columns:"
   ]
  },
  {
   "cell_type": "code",
   "execution_count": 11,
   "metadata": {},
   "outputs": [],
   "source": [
    "# Rename 'SLA_due_date' to 'case_due_date' using .withColumnRenamed\n",
    "\n",
    "df = df.withColumnRenamed('SLA_due_date', 'case_due_date')"
   ]
  },
  {
   "cell_type": "code",
   "execution_count": 12,
   "metadata": {},
   "outputs": [
    {
     "name": "stdout",
     "output_type": "stream",
     "text": [
      "-RECORD 0------------------------------------\n",
      " case_id              | 1014127332           \n",
      " case_opened_date     | 1/1/18 0:42          \n",
      " case_closed_date     | 1/1/18 12:29         \n",
      " case_due_date        | 9/26/20 0:42         \n",
      " case_late            | NO                   \n",
      " num_days_late        | -998.5087616000001   \n",
      " case_closed          | YES                  \n",
      " dept_division        | Field Operations     \n",
      " service_request_type | Stray Animal         \n",
      " SLA_days             | 999.0                \n",
      " case_status          | Closed               \n",
      " source_id            | svcCRMLS             \n",
      " request_address      | 2315  EL PASO ST,... \n",
      " council_district     | 5                    \n",
      "only showing top 1 row\n",
      "\n"
     ]
    }
   ],
   "source": [
    "df.show(1, vertical=True)"
   ]
  },
  {
   "cell_type": "markdown",
   "metadata": {},
   "source": [
    "#### Correct Data Types:"
   ]
  },
  {
   "cell_type": "code",
   "execution_count": 13,
   "metadata": {},
   "outputs": [
    {
     "data": {
      "text/plain": [
       "[('case_id', 'int'),\n",
       " ('case_opened_date', 'string'),\n",
       " ('case_closed_date', 'string'),\n",
       " ('case_due_date', 'string'),\n",
       " ('case_late', 'string'),\n",
       " ('num_days_late', 'double'),\n",
       " ('case_closed', 'string'),\n",
       " ('dept_division', 'string'),\n",
       " ('service_request_type', 'string'),\n",
       " ('SLA_days', 'double'),\n",
       " ('case_status', 'string'),\n",
       " ('source_id', 'string'),\n",
       " ('request_address', 'string'),\n",
       " ('council_district', 'int')]"
      ]
     },
     "execution_count": 13,
     "metadata": {},
     "output_type": "execute_result"
    }
   ],
   "source": [
    "df.dtypes"
   ]
  },
  {
   "cell_type": "code",
   "execution_count": 14,
   "metadata": {},
   "outputs": [
    {
     "name": "stdout",
     "output_type": "stream",
     "text": [
      "+-----------+---------+\n",
      "|case_closed|case_late|\n",
      "+-----------+---------+\n",
      "|        YES|       NO|\n",
      "|        YES|       NO|\n",
      "|        YES|       NO|\n",
      "|        YES|       NO|\n",
      "|        YES|      YES|\n",
      "+-----------+---------+\n",
      "only showing top 5 rows\n",
      "\n"
     ]
    }
   ],
   "source": [
    "# correct data types: case_closed and case_late to boolean\n",
    "\n",
    "df.select(\"case_closed\", \"case_late\").show(5)"
   ]
  },
  {
   "cell_type": "code",
   "execution_count": 15,
   "metadata": {},
   "outputs": [],
   "source": [
    "# use .withColumn to change columns from string to boolean values\n",
    "\n",
    "df = df.withColumn(\"case_closed\", expr('case_closed == \"YES\"'))\\\n",
    ".withColumn(\"case_late\", expr('case_late == \"YES\"'))"
   ]
  },
  {
   "cell_type": "code",
   "execution_count": 16,
   "metadata": {},
   "outputs": [
    {
     "name": "stdout",
     "output_type": "stream",
     "text": [
      "+-----------+---------+\n",
      "|case_closed|case_late|\n",
      "+-----------+---------+\n",
      "|       true|    false|\n",
      "|       true|    false|\n",
      "|       true|    false|\n",
      "|       true|    false|\n",
      "|       true|     true|\n",
      "+-----------+---------+\n",
      "only showing top 5 rows\n",
      "\n"
     ]
    }
   ],
   "source": [
    "#check the columns\n",
    "df.select(\"case_closed\", \"case_late\").show(5)"
   ]
  },
  {
   "cell_type": "code",
   "execution_count": 17,
   "metadata": {},
   "outputs": [
    {
     "name": "stdout",
     "output_type": "stream",
     "text": [
      "+----------------+\n",
      "|council_district|\n",
      "+----------------+\n",
      "|               5|\n",
      "|               3|\n",
      "|               3|\n",
      "|               3|\n",
      "+----------------+\n",
      "only showing top 4 rows\n",
      "\n"
     ]
    }
   ],
   "source": [
    "# council_district cast as string\n",
    "df.select('council_district').show(4)"
   ]
  },
  {
   "cell_type": "code",
   "execution_count": 18,
   "metadata": {},
   "outputs": [],
   "source": [
    "# council_district as a string instead of int\n",
    "# df.withColumn(\"council_district\",col('council_district'), col('council_district').cast('string'))\n",
    "df = df.withColumn(\"council_district\", col(\"council_district\").cast(\"string\"))\n"
   ]
  },
  {
   "cell_type": "code",
   "execution_count": 19,
   "metadata": {},
   "outputs": [
    {
     "name": "stdout",
     "output_type": "stream",
     "text": [
      "+----------------+\n",
      "|council_district|\n",
      "+----------------+\n",
      "|               5|\n",
      "|               3|\n",
      "|               3|\n",
      "+----------------+\n",
      "only showing top 3 rows\n",
      "\n"
     ]
    }
   ],
   "source": [
    "# view the column\n",
    "\n",
    "df.select('council_district').show(3)"
   ]
  },
  {
   "cell_type": "code",
   "execution_count": 20,
   "metadata": {},
   "outputs": [
    {
     "data": {
      "text/plain": [
       "[('case_id', 'int'),\n",
       " ('case_opened_date', 'string'),\n",
       " ('case_closed_date', 'string'),\n",
       " ('case_due_date', 'string'),\n",
       " ('case_late', 'boolean'),\n",
       " ('num_days_late', 'double'),\n",
       " ('case_closed', 'boolean'),\n",
       " ('dept_division', 'string'),\n",
       " ('service_request_type', 'string'),\n",
       " ('SLA_days', 'double'),\n",
       " ('case_status', 'string'),\n",
       " ('source_id', 'string'),\n",
       " ('request_address', 'string'),\n",
       " ('council_district', 'string')]"
      ]
     },
     "execution_count": 20,
     "metadata": {},
     "output_type": "execute_result"
    }
   ],
   "source": [
    "# check datatypes\n",
    "df.dtypes"
   ]
  },
  {
   "cell_type": "code",
   "execution_count": 21,
   "metadata": {},
   "outputs": [
    {
     "name": "stdout",
     "output_type": "stream",
     "text": [
      "+----------------+----------------+-------------+\n",
      "|case_opened_date|case_closed_date|case_due_date|\n",
      "+----------------+----------------+-------------+\n",
      "|     1/1/18 0:42|    1/1/18 12:29| 9/26/20 0:42|\n",
      "|     1/1/18 0:46|     1/3/18 8:11|  1/5/18 8:30|\n",
      "|     1/1/18 0:48|     1/2/18 7:57|  1/5/18 8:30|\n",
      "|     1/1/18 1:29|     1/2/18 8:13| 1/17/18 8:30|\n",
      "|     1/1/18 1:34|    1/1/18 13:29|  1/1/18 4:34|\n",
      "+----------------+----------------+-------------+\n",
      "only showing top 5 rows\n",
      "\n"
     ]
    }
   ],
   "source": [
    "# convert case_opened_date, case_closed_date and case_due_date to datetime format\n",
    "\n",
    "df.select('case_opened_date', 'case_closed_date', 'case_due_date').show(5)\n"
   ]
  },
  {
   "cell_type": "code",
   "execution_count": 22,
   "metadata": {},
   "outputs": [
    {
     "name": "stdout",
     "output_type": "stream",
     "text": [
      "--- After\n",
      "+-------------------+-------------------+-------------------+\n",
      "|   case_opened_date|   case_closed_date|      case_due_date|\n",
      "+-------------------+-------------------+-------------------+\n",
      "|2018-01-01 00:42:00|2018-01-01 00:42:00|2018-01-01 00:42:00|\n",
      "|2018-01-01 00:46:00|2018-01-01 00:46:00|2018-01-01 00:46:00|\n",
      "|2018-01-01 00:48:00|2018-01-01 00:48:00|2018-01-01 00:48:00|\n",
      "|2018-01-01 01:29:00|2018-01-01 01:29:00|2018-01-01 01:29:00|\n",
      "|2018-01-01 01:34:00|2018-01-01 01:34:00|2018-01-01 01:34:00|\n",
      "+-------------------+-------------------+-------------------+\n",
      "only showing top 5 rows\n",
      "\n"
     ]
    }
   ],
   "source": [
    "# to_timestamp, fmt\n",
    "\n",
    "fmt = \"M/d/yy H:mm\"\n",
    "\n",
    "df = (\n",
    "    df.withColumn(\"case_opened_date\", to_timestamp(\"case_opened_date\", fmt))\n",
    "    .withColumn(\"case_closed_date\", to_timestamp(\"case_opened_date\", fmt))\n",
    "    .withColumn(\"case_due_date\", to_timestamp(\"case_opened_date\", fmt))\n",
    ")\n",
    "\n",
    "print(\"--- After\")\n",
    "df.select(\"case_opened_date\", \"case_closed_date\", \"case_due_date\").show(5)"
   ]
  },
  {
   "cell_type": "code",
   "execution_count": 23,
   "metadata": {},
   "outputs": [
    {
     "name": "stdout",
     "output_type": "stream",
     "text": [
      "+-------------------+-------------------+-------------------+\n",
      "|   case_opened_date|   case_closed_date|      case_due_date|\n",
      "+-------------------+-------------------+-------------------+\n",
      "|2018-01-01 00:42:00|2018-01-01 00:42:00|2018-01-01 00:42:00|\n",
      "|2018-01-01 00:46:00|2018-01-01 00:46:00|2018-01-01 00:46:00|\n",
      "|2018-01-01 00:48:00|2018-01-01 00:48:00|2018-01-01 00:48:00|\n",
      "+-------------------+-------------------+-------------------+\n",
      "only showing top 3 rows\n",
      "\n"
     ]
    }
   ],
   "source": [
    "# check the three columns again\n",
    "\n",
    "# df.select('case_opened_date', 'case_closed_date', 'case_due_date').show(5)\n",
    "\n",
    "df.select(df.columns[1:4]).show(3)"
   ]
  },
  {
   "cell_type": "markdown",
   "metadata": {},
   "source": [
    "#### Data Transformation"
   ]
  },
  {
   "cell_type": "code",
   "execution_count": 24,
   "metadata": {},
   "outputs": [
    {
     "name": "stdout",
     "output_type": "stream",
     "text": [
      "+-------------------------------------+\n",
      "|request_address                      |\n",
      "+-------------------------------------+\n",
      "|2315  EL PASO ST, San Antonio, 78207 |\n",
      "|2215  GOLIAD RD, San Antonio, 78223  |\n",
      "|102  PALFREY ST W, San Antonio, 78223|\n",
      "|114  LA GARDE ST, San Antonio, 78223 |\n",
      "|734  CLEARVIEW DR, San Antonio, 78228|\n",
      "+-------------------------------------+\n",
      "only showing top 5 rows\n",
      "\n"
     ]
    }
   ],
   "source": [
    "# request_address: trim and lowercase\n",
    "\n",
    "df.select('request_address').show(5, False)"
   ]
  },
  {
   "cell_type": "code",
   "execution_count": 25,
   "metadata": {},
   "outputs": [],
   "source": [
    "# request_address: trim and lowercase\n",
    "\n",
    "df = df.withColumn(\"request_address\", lower(trim(\"request_address\")))"
   ]
  },
  {
   "cell_type": "code",
   "execution_count": 26,
   "metadata": {},
   "outputs": [
    {
     "name": "stdout",
     "output_type": "stream",
     "text": [
      "+-------------------------------------+\n",
      "|request_address                      |\n",
      "+-------------------------------------+\n",
      "|2315  el paso st, san antonio, 78207 |\n",
      "|2215  goliad rd, san antonio, 78223  |\n",
      "|102  palfrey st w, san antonio, 78223|\n",
      "+-------------------------------------+\n",
      "only showing top 3 rows\n",
      "\n"
     ]
    }
   ],
   "source": [
    "df.select('request_address').show(3, truncate=False)"
   ]
  },
  {
   "cell_type": "code",
   "execution_count": 27,
   "metadata": {},
   "outputs": [],
   "source": [
    "# convert the number of days a case is late to a number of weeks\n",
    "\n",
    "df = df.withColumn(\"num_weeks_late\", expr(\"num_days_late / 7\"))"
   ]
  },
  {
   "cell_type": "code",
   "execution_count": 28,
   "metadata": {},
   "outputs": [
    {
     "name": "stdout",
     "output_type": "stream",
     "text": [
      "+-------------------+--------------------+\n",
      "|      num_days_late|      num_weeks_late|\n",
      "+-------------------+--------------------+\n",
      "| -998.5087616000001|        -142.6441088|\n",
      "|-2.0126041669999997|-0.28751488099999994|\n",
      "|       -3.022337963|-0.43176256614285713|\n",
      "+-------------------+--------------------+\n",
      "only showing top 3 rows\n",
      "\n"
     ]
    }
   ],
   "source": [
    "df.select('num_days_late','num_weeks_late').show(3)"
   ]
  },
  {
   "cell_type": "code",
   "execution_count": 29,
   "metadata": {},
   "outputs": [],
   "source": [
    "# use format_string function to pad zeros for council_district\n",
    "df = df.withColumn('council_district',format_string('%03d', col('council_district').cast('int')))"
   ]
  },
  {
   "cell_type": "code",
   "execution_count": 30,
   "metadata": {},
   "outputs": [
    {
     "name": "stdout",
     "output_type": "stream",
     "text": [
      "+----------------+\n",
      "|council_district|\n",
      "+----------------+\n",
      "|             005|\n",
      "|             003|\n",
      "|             003|\n",
      "+----------------+\n",
      "only showing top 3 rows\n",
      "\n"
     ]
    }
   ],
   "source": [
    "df.select('council_district').show(3)"
   ]
  },
  {
   "cell_type": "markdown",
   "metadata": {},
   "source": [
    "#### New features:"
   ]
  },
  {
   "cell_type": "code",
   "execution_count": 31,
   "metadata": {},
   "outputs": [],
   "source": [
    "# create a new column for zipcode:\n",
    "\n",
    "df = df.withColumn('zipcode', expr('right(request_address, 5)'))\n"
   ]
  },
  {
   "cell_type": "code",
   "execution_count": 32,
   "metadata": {},
   "outputs": [
    {
     "name": "stdout",
     "output_type": "stream",
     "text": [
      "+-------+\n",
      "|zipcode|\n",
      "+-------+\n",
      "|  78207|\n",
      "|  78223|\n",
      "|  78223|\n",
      "+-------+\n",
      "only showing top 3 rows\n",
      "\n"
     ]
    }
   ],
   "source": [
    "df.select('zipcode').show(3)"
   ]
  },
  {
   "cell_type": "code",
   "execution_count": 33,
   "metadata": {},
   "outputs": [],
   "source": [
    "# this regex should and does also work\n",
    "df = df.withColumn('zipcode',regexp_extract('request_address', r'(\\d+$)',1))"
   ]
  },
  {
   "cell_type": "code",
   "execution_count": 34,
   "metadata": {},
   "outputs": [
    {
     "name": "stdout",
     "output_type": "stream",
     "text": [
      "+-------+\n",
      "|zipcode|\n",
      "+-------+\n",
      "|  78207|\n",
      "|  78223|\n",
      "|  78223|\n",
      "+-------+\n",
      "only showing top 3 rows\n",
      "\n"
     ]
    }
   ],
   "source": [
    "df.select('zipcode').show(3)"
   ]
  },
  {
   "cell_type": "markdown",
   "metadata": {},
   "source": [
    "case_age: How old the case is; the difference in days between when the case was opened and the current day  \n",
    "days_to_closed: The number of days between when the case was opened and when it was closed  \n",
    "case_lifetime: Number of days between when the case was opened and when it was closed, if the case is still open, the number of days since the case was opened  "
   ]
  },
  {
   "cell_type": "code",
   "execution_count": 35,
   "metadata": {},
   "outputs": [],
   "source": [
    "#create three new columns 'case_age', 'days_to_closed', 'case_lifetime'\n",
    "\n",
    "df = (\n",
    "    df.withColumn(\n",
    "        \"case_age\", datediff(current_timestamp(), \"case_opened_date\")\n",
    "    )\n",
    "    .withColumn(\n",
    "        \"days_to_closed\", datediff(\"case_closed_date\", \"case_opened_date\")\n",
    "    )\n",
    "    .withColumn(\n",
    "        \"case_lifetime\",\n",
    "        when(expr(\"! case_closed\"), col(\"case_age\")).otherwise(   ### \"when NOT case_closed, then case_age, otherwise....\"\n",
    "            col(\"days_to_closed\")\n",
    "        ),\n",
    "    )\n",
    ")"
   ]
  },
  {
   "cell_type": "code",
   "execution_count": null,
   "metadata": {},
   "outputs": [],
   "source": []
  },
  {
   "cell_type": "code",
   "execution_count": 36,
   "metadata": {
    "scrolled": false
   },
   "outputs": [
    {
     "name": "stdout",
     "output_type": "stream",
     "text": [
      "-RECORD 0----------------------------------------------------\n",
      " case_id              | 1014127332                           \n",
      " case_opened_date     | 2018-01-01 00:42:00                  \n",
      " case_closed_date     | 2018-01-01 00:42:00                  \n",
      " case_due_date        | 2018-01-01 00:42:00                  \n",
      " case_late            | false                                \n",
      " num_days_late        | -998.5087616000001                   \n",
      " case_closed          | true                                 \n",
      " dept_division        | Field Operations                     \n",
      " service_request_type | Stray Animal                         \n",
      " SLA_days             | 999.0                                \n",
      " case_status          | Closed                               \n",
      " source_id            | svcCRMLS                             \n",
      " request_address      | 2315  el paso st, san antonio, 78207 \n",
      " council_district     | 005                                  \n",
      " num_weeks_late       | -142.6441088                         \n",
      " zipcode              | 78207                                \n",
      " case_age             | 1506                                 \n",
      " days_to_closed       | 0                                    \n",
      " case_lifetime        | 0                                    \n",
      "only showing top 1 row\n",
      "\n"
     ]
    }
   ],
   "source": [
    "df.show(1, False, True)"
   ]
  },
  {
   "cell_type": "code",
   "execution_count": 37,
   "metadata": {
    "scrolled": true
   },
   "outputs": [
    {
     "name": "stdout",
     "output_type": "stream",
     "text": [
      "-RECORD 0-----------------------------------------------\n",
      " dept_division          | 311 Call Center               \n",
      " dept_name              | Customer Service              \n",
      " standardized_dept_name | Customer Service              \n",
      " dept_subject_to_SLA    | YES                           \n",
      "-RECORD 1-----------------------------------------------\n",
      " dept_division          | Brush                         \n",
      " dept_name              | Solid Waste Management        \n",
      " standardized_dept_name | Solid Waste                   \n",
      " dept_subject_to_SLA    | YES                           \n",
      "-RECORD 2-----------------------------------------------\n",
      " dept_division          | Clean and Green               \n",
      " dept_name              | Parks and Recreation          \n",
      " standardized_dept_name | Parks & Recreation            \n",
      " dept_subject_to_SLA    | YES                           \n",
      "-RECORD 3-----------------------------------------------\n",
      " dept_division          | Clean and Green Natural Areas \n",
      " dept_name              | Parks and Recreation          \n",
      " standardized_dept_name | Parks & Recreation            \n",
      " dept_subject_to_SLA    | YES                           \n",
      "-RECORD 4-----------------------------------------------\n",
      " dept_division          | Code Enforcement              \n",
      " dept_name              | Code Enforcement Services     \n",
      " standardized_dept_name | DSD/Code Enforcement          \n",
      " dept_subject_to_SLA    | YES                           \n",
      "only showing top 5 rows\n",
      "\n"
     ]
    }
   ],
   "source": [
    "# read the dept.csv file:\n",
    "\n",
    "dept = spark.read.csv(\"dept.csv\", header=True, inferSchema=True)\n",
    "dept.show(5, False, True)"
   ]
  },
  {
   "cell_type": "code",
   "execution_count": 38,
   "metadata": {},
   "outputs": [],
   "source": [
    "# dept.select('dept_division').distinct().show()\n",
    "# dept.select('dept_name').show()"
   ]
  },
  {
   "cell_type": "code",
   "execution_count": 39,
   "metadata": {},
   "outputs": [],
   "source": [
    "# join the df and dept dataframe using 'dept_division' as common key\n",
    "# drop columns as needed (keep standardized_dept_name)\n",
    "# convert dept_subject_to_SLA to boolean\n",
    "\n",
    "df = (\n",
    "    df\n",
    "    # left join on dept_division\n",
    "    .join(dept, \"dept_division\", \"left\")\n",
    "    # drop all the columns except for standardized name, as it has much fewer unique values\n",
    "    .drop(dept.dept_division)\n",
    "    .drop(dept.dept_name)\n",
    "    .withColumnRenamed(\"standardized_dept_name\", \"department\")\n",
    "    # convert to a boolean\n",
    "    .withColumn(\"dept_subject_to_SLA\", col(\"dept_subject_to_SLA\") == \"YES\")\n",
    ")"
   ]
  },
  {
   "cell_type": "code",
   "execution_count": 40,
   "metadata": {},
   "outputs": [
    {
     "name": "stdout",
     "output_type": "stream",
     "text": [
      "-RECORD 0----------------------------------------------------\n",
      " dept_division        | Field Operations                     \n",
      " case_id              | 1014127332                           \n",
      " case_opened_date     | 2018-01-01 00:42:00                  \n",
      " case_closed_date     | 2018-01-01 00:42:00                  \n",
      " case_due_date        | 2018-01-01 00:42:00                  \n",
      " case_late            | false                                \n",
      " num_days_late        | -998.5087616000001                   \n",
      " case_closed          | true                                 \n",
      " service_request_type | Stray Animal                         \n",
      " SLA_days             | 999.0                                \n",
      " case_status          | Closed                               \n",
      " source_id            | svcCRMLS                             \n",
      " request_address      | 2315  el paso st, san antonio, 78207 \n",
      " council_district     | 005                                  \n",
      " num_weeks_late       | -142.6441088                         \n",
      " zipcode              | 78207                                \n",
      " case_age             | 1506                                 \n",
      " days_to_closed       | 0                                    \n",
      " case_lifetime        | 0                                    \n",
      " department           | Animal Care Services                 \n",
      " dept_subject_to_SLA  | true                                 \n",
      "only showing top 1 row\n",
      "\n"
     ]
    }
   ],
   "source": [
    "df.show(1, False, True)"
   ]
  },
  {
   "cell_type": "code",
   "execution_count": null,
   "metadata": {},
   "outputs": [],
   "source": []
  },
  {
   "cell_type": "markdown",
   "metadata": {},
   "source": [
    "# Exercises\n",
    "\n",
    "## Data Acquisition\n",
    "\n",
    "- These exercises should go in a notebook or script named wrangle. Add, commit, and push your changes.\n",
    "\n",
    "- This exercises uses the case.csv, dept.csv, and source.csv files from the san antonio 311 call dataset.\n",
    "\n",
    "### 1. Read the case, department, and source data into their own spark dataframes."
   ]
  },
  {
   "cell_type": "code",
   "execution_count": 41,
   "metadata": {},
   "outputs": [
    {
     "name": "stdout",
     "output_type": "stream",
     "text": [
      "+---------+----------------+\n",
      "|source_id| source_username|\n",
      "+---------+----------------+\n",
      "|   100137|Merlene Blodgett|\n",
      "|   103582|     Carmen Cura|\n",
      "|   106463| Richard Sanchez|\n",
      "+---------+----------------+\n",
      "only showing top 3 rows\n",
      "\n"
     ]
    }
   ],
   "source": [
    "source = (spark.read.csv(\"source.csv\",\n",
    "                     sep=\",\",\n",
    "                     header=True,\n",
    "                     inferSchema=True)\n",
    "     )\n",
    "source.show(3)"
   ]
  },
  {
   "cell_type": "code",
   "execution_count": 42,
   "metadata": {},
   "outputs": [
    {
     "data": {
      "text/plain": [
       "(140, 2)"
      ]
     },
     "execution_count": 42,
     "metadata": {},
     "output_type": "execute_result"
    }
   ],
   "source": [
    "source.count(), len(source.columns)"
   ]
  },
  {
   "cell_type": "code",
   "execution_count": 43,
   "metadata": {},
   "outputs": [
    {
     "name": "stdout",
     "output_type": "stream",
     "text": [
      "+---------+-----+\n",
      "|source_id|count|\n",
      "+---------+-----+\n",
      "|     null|  140|\n",
      "|   100137|    1|\n",
      "|   103582|    1|\n",
      "|   106463|    1|\n",
      "|   119403|    1|\n",
      "|   119555|    1|\n",
      "|   119868|    1|\n",
      "|   120752|    1|\n",
      "|   124405|    1|\n",
      "|   132408|    1|\n",
      "|   135723|    1|\n",
      "|   136202|    1|\n",
      "|   136979|    1|\n",
      "|   137943|    1|\n",
      "|   138605|    1|\n",
      "|   138650|    2|\n",
      "|   138793|    1|\n",
      "|   138810|    1|\n",
      "|   139342|    1|\n",
      "|   139344|    1|\n",
      "+---------+-----+\n",
      "only showing top 20 rows\n",
      "\n"
     ]
    }
   ],
   "source": [
    "source.rollup(\"source_id\").count().sort(\"source_id\").show()\n",
    "# source.where(source['source_id']==127332).show() # there weren't any, try again"
   ]
  },
  {
   "cell_type": "code",
   "execution_count": 44,
   "metadata": {},
   "outputs": [
    {
     "name": "stdout",
     "output_type": "stream",
     "text": [
      "-RECORD 0------------------------------------\n",
      " case_id              | 1014127332           \n",
      " case_opened_date     | 1/1/18 0:42          \n",
      " case_closed_date     | 1/1/18 12:29         \n",
      " SLA_due_date         | 9/26/20 0:42         \n",
      " case_late            | NO                   \n",
      " num_days_late        | -998.5087616000001   \n",
      " case_closed          | YES                  \n",
      " dept_division        | Field Operations     \n",
      " service_request_type | Stray Animal         \n",
      " SLA_days             | 999.0                \n",
      " case_status          | Closed               \n",
      " source_id            | svcCRMLS             \n",
      " request_address      | 2315  EL PASO ST,... \n",
      " council_district     | 5                    \n",
      "-RECORD 1------------------------------------\n",
      " case_id              | 1014127333           \n",
      " case_opened_date     | 1/1/18 0:46          \n",
      " case_closed_date     | 1/3/18 8:11          \n",
      " SLA_due_date         | 1/5/18 8:30          \n",
      " case_late            | NO                   \n",
      " num_days_late        | -2.0126041669999997  \n",
      " case_closed          | YES                  \n",
      " dept_division        | Storm Water          \n",
      " service_request_type | Removal Of Obstru... \n",
      " SLA_days             | 4.322222222          \n",
      " case_status          | Closed               \n",
      " source_id            | svcCRMSS             \n",
      " request_address      | 2215  GOLIAD RD, ... \n",
      " council_district     | 3                    \n",
      "-RECORD 2------------------------------------\n",
      " case_id              | 1014127334           \n",
      " case_opened_date     | 1/1/18 0:48          \n",
      " case_closed_date     | 1/2/18 7:57          \n",
      " SLA_due_date         | 1/5/18 8:30          \n",
      " case_late            | NO                   \n",
      " num_days_late        | -3.022337963         \n",
      " case_closed          | YES                  \n",
      " dept_division        | Storm Water          \n",
      " service_request_type | Removal Of Obstru... \n",
      " SLA_days             | 4.320729167          \n",
      " case_status          | Closed               \n",
      " source_id            | svcCRMSS             \n",
      " request_address      | 102  PALFREY ST W... \n",
      " council_district     | 3                    \n",
      "only showing top 3 rows\n",
      "\n"
     ]
    }
   ],
   "source": [
    "case = spark.read.csv(\"case.csv\", header=True, inferSchema=True)\n",
    "case.show(3, vertical=True)"
   ]
  },
  {
   "cell_type": "code",
   "execution_count": 45,
   "metadata": {},
   "outputs": [
    {
     "data": {
      "text/plain": [
       "(841704, 14)"
      ]
     },
     "execution_count": 45,
     "metadata": {},
     "output_type": "execute_result"
    }
   ],
   "source": [
    "case.count(),len(case.columns)"
   ]
  },
  {
   "cell_type": "code",
   "execution_count": 46,
   "metadata": {
    "scrolled": true
   },
   "outputs": [
    {
     "name": "stdout",
     "output_type": "stream",
     "text": [
      "+---------------+--------------------+----------------------+-------------------+\n",
      "|  dept_division|           dept_name|standardized_dept_name|dept_subject_to_SLA|\n",
      "+---------------+--------------------+----------------------+-------------------+\n",
      "|311 Call Center|    Customer Service|      Customer Service|                YES|\n",
      "|          Brush|Solid Waste Manag...|           Solid Waste|                YES|\n",
      "|Clean and Green|Parks and Recreation|    Parks & Recreation|                YES|\n",
      "+---------------+--------------------+----------------------+-------------------+\n",
      "only showing top 3 rows\n",
      "\n"
     ]
    }
   ],
   "source": [
    "dept = spark.read.csv(\"dept.csv\", header=True, inferSchema=True)\n",
    "dept.show(3)"
   ]
  },
  {
   "cell_type": "markdown",
   "metadata": {},
   "source": [
    "### 2. Let's see how writing to the local disk works in spark:\n",
    "\n",
    "    - Write the code necessary to store the source data in both csv and json format, store these as sources_csv and sources_json\n",
    "    - Inspect your folder structure. What do you notice?"
   ]
  },
  {
   "cell_type": "code",
   "execution_count": 47,
   "metadata": {},
   "outputs": [],
   "source": [
    "source.write.json(\"sources_json.json\", mode=\"overwrite\")\n",
    "source.write.csv(\"sources_csv.csv\", mode='overwrite')"
   ]
  },
  {
   "cell_type": "markdown",
   "metadata": {},
   "source": [
    "### 3. Inspect the data in your dataframes. Are the data types appropriate? Write the code necessary to cast the values to the appropriate types."
   ]
  },
  {
   "cell_type": "code",
   "execution_count": 48,
   "metadata": {},
   "outputs": [
    {
     "name": "stdout",
     "output_type": "stream",
     "text": [
      "+-------------------+\n",
      "|dept_subject_to_SLA|\n",
      "+-------------------+\n",
      "|               true|\n",
      "|               true|\n",
      "|               true|\n",
      "|               true|\n",
      "|               true|\n",
      "+-------------------+\n",
      "only showing top 5 rows\n",
      "\n"
     ]
    }
   ],
   "source": [
    "# source.dtypes # looks good here\n",
    "# dept.dtypes # the only change I would consider is to make the 'dept_subject_to_SLA' column a boolean\n",
    "dept = dept.withColumn(\"dept_subject_to_SLA\", expr('dept_subject_to_SLA == \"YES\"'))\n",
    "df.select(\"dept_subject_to_SLA\").show(5)\n",
    "# looking good"
   ]
  },
  {
   "cell_type": "code",
   "execution_count": 49,
   "metadata": {},
   "outputs": [
    {
     "data": {
      "text/plain": [
       "[('case_id', 'int'),\n",
       " ('case_opened_date', 'string'),\n",
       " ('case_closed_date', 'string'),\n",
       " ('SLA_due_date', 'string'),\n",
       " ('case_late', 'string'),\n",
       " ('num_days_late', 'double'),\n",
       " ('case_closed', 'string'),\n",
       " ('dept_division', 'string'),\n",
       " ('service_request_type', 'string'),\n",
       " ('SLA_days', 'double'),\n",
       " ('case_status', 'string'),\n",
       " ('source_id', 'string'),\n",
       " ('request_address', 'string'),\n",
       " ('council_district', 'int')]"
      ]
     },
     "execution_count": 49,
     "metadata": {},
     "output_type": "execute_result"
    }
   ],
   "source": [
    "case.dtypes"
   ]
  },
  {
   "cell_type": "code",
   "execution_count": 50,
   "metadata": {},
   "outputs": [
    {
     "name": "stdout",
     "output_type": "stream",
     "text": [
      "-RECORD 0------------------------------------\n",
      " case_id              | 1014127332           \n",
      " case_opened_date     | 1/1/18 0:42          \n",
      " case_closed_date     | 1/1/18 12:29         \n",
      " SLA_due_date         | 9/26/20 0:42         \n",
      " case_late            | NO                   \n",
      " num_days_late        | -998.5087616000001   \n",
      " case_closed          | YES                  \n",
      " dept_division        | Field Operations     \n",
      " service_request_type | Stray Animal         \n",
      " SLA_days             | 999.0                \n",
      " case_status          | Closed               \n",
      " source_id            | svcCRMLS             \n",
      " request_address      | 2315  EL PASO ST,... \n",
      " council_district     | 5                    \n",
      "only showing top 1 row\n",
      "\n"
     ]
    }
   ],
   "source": [
    "case.show(1,vertical=True)"
   ]
  },
  {
   "cell_type": "code",
   "execution_count": 51,
   "metadata": {},
   "outputs": [],
   "source": [
    "case = case.withColumnRenamed('SLA_due_date', 'case_due_date')"
   ]
  },
  {
   "cell_type": "code",
   "execution_count": 52,
   "metadata": {},
   "outputs": [],
   "source": [
    "# use .withColumn to change columns from string to boolean values\n",
    "case = case.withColumn(\"case_closed\", expr('case_closed == \"YES\"'))\\\n",
    ".withColumn(\"case_late\", expr('case_late == \"YES\"'))"
   ]
  },
  {
   "cell_type": "code",
   "execution_count": 53,
   "metadata": {},
   "outputs": [],
   "source": [
    "case = case.withColumn(\"council_district\", col(\"council_district\").cast(\"string\"))\n",
    "\n",
    "# my only comment here is if it wouldn't be better to give the districts more 'categorical sounding' names\n",
    "# eg 'one','two','three', etc\n"
   ]
  },
  {
   "cell_type": "code",
   "execution_count": 54,
   "metadata": {},
   "outputs": [
    {
     "name": "stdout",
     "output_type": "stream",
     "text": [
      "--- After\n",
      "+-------------------+-------------------+-------------------+\n",
      "|   case_opened_date|   case_closed_date|      case_due_date|\n",
      "+-------------------+-------------------+-------------------+\n",
      "|2018-01-01 00:42:00|2018-01-01 00:42:00|2018-01-01 00:42:00|\n",
      "|2018-01-01 00:46:00|2018-01-01 00:46:00|2018-01-01 00:46:00|\n",
      "|2018-01-01 00:48:00|2018-01-01 00:48:00|2018-01-01 00:48:00|\n",
      "|2018-01-01 01:29:00|2018-01-01 01:29:00|2018-01-01 01:29:00|\n",
      "|2018-01-01 01:34:00|2018-01-01 01:34:00|2018-01-01 01:34:00|\n",
      "+-------------------+-------------------+-------------------+\n",
      "only showing top 5 rows\n",
      "\n"
     ]
    }
   ],
   "source": [
    "# to_timestamp, fmt\n",
    "\n",
    "fmt = \"M/d/yy H:mm\"\n",
    "\n",
    "case = (\n",
    "    case.withColumn(\"case_opened_date\", to_timestamp(\"case_opened_date\", fmt))\n",
    "    .withColumn(\"case_closed_date\", to_timestamp(\"case_opened_date\", fmt))\n",
    "    .withColumn(\"case_due_date\", to_timestamp(\"case_opened_date\", fmt))\n",
    ")\n",
    "\n",
    "print(\"--- After\")\n",
    "case.select(\"case_opened_date\", \"case_closed_date\", \"case_due_date\").show(5)"
   ]
  },
  {
   "cell_type": "code",
   "execution_count": 55,
   "metadata": {},
   "outputs": [],
   "source": [
    "# request_address: trim and lowercase\n",
    "\n",
    "case = case.withColumn(\"request_address\", lower(trim(\"request_address\")))"
   ]
  },
  {
   "cell_type": "code",
   "execution_count": 56,
   "metadata": {},
   "outputs": [],
   "source": [
    "# convert the number of days a case is late to a number of weeks\n",
    "\n",
    "case = case.withColumn(\"num_weeks_late\", expr(\"num_days_late / 7\"))"
   ]
  },
  {
   "cell_type": "code",
   "execution_count": 57,
   "metadata": {},
   "outputs": [],
   "source": [
    "case = case.withColumn('zipcode',regexp_extract('request_address', r'(\\d+$)',1))"
   ]
  },
  {
   "cell_type": "code",
   "execution_count": 58,
   "metadata": {},
   "outputs": [],
   "source": [
    "#create three new columns 'case_age', 'days_to_closed', 'case_lifetime'\n",
    "\n",
    "case = (\n",
    "    case.withColumn(\n",
    "        \"case_age\", datediff(current_timestamp(), \"case_opened_date\")\n",
    "    )\n",
    "    .withColumn(\n",
    "        \"days_to_closed\", datediff(\"case_closed_date\", \"case_opened_date\")\n",
    "    )\n",
    "    .withColumn(\n",
    "        \"case_lifetime\",\n",
    "        when(expr(\"! case_closed\"), col(\"case_age\")).otherwise(   ### \"when NOT case_closed, then case_age, otherwise....\"\n",
    "            col(\"days_to_closed\")\n",
    "        ),\n",
    "    )\n",
    ")"
   ]
  },
  {
   "cell_type": "code",
   "execution_count": 59,
   "metadata": {},
   "outputs": [
    {
     "name": "stdout",
     "output_type": "stream",
     "text": [
      "-RECORD 0------------------------------------\n",
      " case_id              | 1014127332           \n",
      " case_opened_date     | 2018-01-01 00:42:00  \n",
      " case_closed_date     | 2018-01-01 00:42:00  \n",
      " case_due_date        | 2018-01-01 00:42:00  \n",
      " case_late            | false                \n",
      " num_days_late        | -998.5087616000001   \n",
      " case_closed          | true                 \n",
      " dept_division        | Field Operations     \n",
      " service_request_type | Stray Animal         \n",
      " SLA_days             | 999.0                \n",
      " case_status          | Closed               \n",
      " source_id            | svcCRMLS             \n",
      " request_address      | 2315  el paso st,... \n",
      " council_district     | 5                    \n",
      " num_weeks_late       | -142.6441088         \n",
      " zipcode              | 78207                \n",
      " case_age             | 1506                 \n",
      " days_to_closed       | 0                    \n",
      " case_lifetime        | 0                    \n",
      "-RECORD 1------------------------------------\n",
      " case_id              | 1014127333           \n",
      " case_opened_date     | 2018-01-01 00:46:00  \n",
      " case_closed_date     | 2018-01-01 00:46:00  \n",
      " case_due_date        | 2018-01-01 00:46:00  \n",
      " case_late            | false                \n",
      " num_days_late        | -2.0126041669999997  \n",
      " case_closed          | true                 \n",
      " dept_division        | Storm Water          \n",
      " service_request_type | Removal Of Obstru... \n",
      " SLA_days             | 4.322222222          \n",
      " case_status          | Closed               \n",
      " source_id            | svcCRMSS             \n",
      " request_address      | 2215  goliad rd, ... \n",
      " council_district     | 3                    \n",
      " num_weeks_late       | -0.28751488099999994 \n",
      " zipcode              | 78223                \n",
      " case_age             | 1506                 \n",
      " days_to_closed       | 0                    \n",
      " case_lifetime        | 0                    \n",
      "only showing top 2 rows\n",
      "\n"
     ]
    }
   ],
   "source": [
    "case.show(2, vertical=True)"
   ]
  },
  {
   "cell_type": "markdown",
   "metadata": {},
   "source": [
    "### How old is the latest (in terms of days past SLA) currently open issue? How long has the oldest (in terms of days since opened) currently opened issue been open?"
   ]
  },
  {
   "cell_type": "code",
   "execution_count": 60,
   "metadata": {},
   "outputs": [
    {
     "name": "stdout",
     "output_type": "stream",
     "text": [
      "+-------------+\n",
      "|days_past_SLA|\n",
      "+-------------+\n",
      "|         1505|\n",
      "+-------------+\n",
      "only showing top 1 row\n",
      "\n"
     ]
    }
   ],
   "source": [
    "(\n",
    "case.filter(case['case_closed']=='false')\n",
    "# .select(col('case_age'))\n",
    ".withColumn('days_past_SLA', datediff(current_timestamp(),\"case_due_date\"))\n",
    "# .show(1,vertical=True)\n",
    ").select('days_past_SLA').show(1)\n",
    "\n",
    "# toggling between the commented out code and the .select at the end for different views"
   ]
  },
  {
   "cell_type": "code",
   "execution_count": 61,
   "metadata": {},
   "outputs": [
    {
     "data": {
      "text/plain": [
       "[Row(case_lifetime=1508), Row(case_lifetime=1507), Row(case_lifetime=1507)]"
      ]
     },
     "execution_count": 61,
     "metadata": {},
     "output_type": "execute_result"
    }
   ],
   "source": [
    "(\n",
    "case.filter(case['case_closed']=='false')\n",
    "# .select(col('case_age'))\n",
    ".select('case_lifetime').tail(3)\n",
    ")"
   ]
  },
  {
   "cell_type": "markdown",
   "metadata": {},
   "source": [
    "### How many Stray Animal cases are there?"
   ]
  },
  {
   "cell_type": "code",
   "execution_count": 62,
   "metadata": {},
   "outputs": [
    {
     "data": {
      "text/plain": [
       "26760"
      ]
     },
     "execution_count": 62,
     "metadata": {},
     "output_type": "execute_result"
    }
   ],
   "source": [
    "case.filter(case['service_request_type']=='Stray Animal').count()"
   ]
  },
  {
   "cell_type": "markdown",
   "metadata": {},
   "source": [
    "### How many service requests that are assigned to the Field Operations department (dept_division) are not classified as \"Officer Standby\" request type (service_request_type)?"
   ]
  },
  {
   "cell_type": "code",
   "execution_count": 63,
   "metadata": {},
   "outputs": [],
   "source": [
    "# case.show(1, vertical=True)"
   ]
  },
  {
   "cell_type": "code",
   "execution_count": 64,
   "metadata": {},
   "outputs": [
    {
     "data": {
      "text/plain": [
       "113902"
      ]
     },
     "execution_count": 64,
     "metadata": {},
     "output_type": "execute_result"
    }
   ],
   "source": [
    "(\n",
    "case.where(col('dept_division')=='Field Operations')\n",
    ".filter(col('service_request_type')!='Officer Standby').count()\n",
    "# .show(1, vertical=True)\n",
    ")"
   ]
  },
  {
   "cell_type": "markdown",
   "metadata": {},
   "source": [
    "### Convert the council_district column to a string column."
   ]
  },
  {
   "cell_type": "code",
   "execution_count": 65,
   "metadata": {},
   "outputs": [],
   "source": [
    "# I did this in an above step"
   ]
  },
  {
   "cell_type": "markdown",
   "metadata": {},
   "source": [
    "### Extract the year from the case_closed_date column."
   ]
  },
  {
   "cell_type": "code",
   "execution_count": 66,
   "metadata": {},
   "outputs": [],
   "source": [
    "# case.show(1, vertical=True)"
   ]
  },
  {
   "cell_type": "code",
   "execution_count": 67,
   "metadata": {},
   "outputs": [
    {
     "name": "stdout",
     "output_type": "stream",
     "text": [
      "-RECORD 0------------------------------------\n",
      " case_id              | 1014127332           \n",
      " case_opened_date     | 2018-01-01 00:42:00  \n",
      " case_closed_date     | 2018-01-01 00:42:00  \n",
      " case_due_date        | 2018-01-01 00:42:00  \n",
      " case_late            | false                \n",
      " num_days_late        | -998.5087616000001   \n",
      " case_closed          | true                 \n",
      " dept_division        | Field Operations     \n",
      " service_request_type | Stray Animal         \n",
      " SLA_days             | 999.0                \n",
      " case_status          | Closed               \n",
      " source_id            | svcCRMLS             \n",
      " request_address      | 2315  el paso st,... \n",
      " council_district     | 5                    \n",
      " num_weeks_late       | -142.6441088         \n",
      " zipcode              | 78207                \n",
      " case_age             | 1506                 \n",
      " days_to_closed       | 0                    \n",
      " case_lifetime        | 0                    \n",
      " case_closed_year     | 2018                 \n",
      "only showing top 1 row\n",
      "\n"
     ]
    }
   ],
   "source": [
    "case = case.withColumn('case_closed_year', year('case_closed_date'))\n",
    "case.show(1, vertical=True)"
   ]
  },
  {
   "cell_type": "markdown",
   "metadata": {},
   "source": [
    "### Convert num_days_late from days to hours in new columns num_hours_late."
   ]
  },
  {
   "cell_type": "code",
   "execution_count": 68,
   "metadata": {},
   "outputs": [],
   "source": [
    "# case.show(1, vertical=True)"
   ]
  },
  {
   "cell_type": "code",
   "execution_count": 69,
   "metadata": {
    "scrolled": true
   },
   "outputs": [
    {
     "name": "stdout",
     "output_type": "stream",
     "text": [
      "-RECORD 0------------------------------------\n",
      " case_id              | 1014127332           \n",
      " case_opened_date     | 2018-01-01 00:42:00  \n",
      " case_closed_date     | 2018-01-01 00:42:00  \n",
      " case_due_date        | 2018-01-01 00:42:00  \n",
      " case_late            | false                \n",
      " num_days_late        | -998.5087616000001   \n",
      " case_closed          | true                 \n",
      " dept_division        | Field Operations     \n",
      " service_request_type | Stray Animal         \n",
      " SLA_days             | 999.0                \n",
      " case_status          | Closed               \n",
      " source_id            | svcCRMLS             \n",
      " request_address      | 2315  el paso st,... \n",
      " council_district     | 5                    \n",
      " num_weeks_late       | -142.6441088         \n",
      " zipcode              | 78207                \n",
      " case_age             | 1506                 \n",
      " days_to_closed       | 0                    \n",
      " case_lifetime        | 0                    \n",
      " case_closed_year     | 2018                 \n",
      " num_hours_late       | -23964.2102784       \n",
      "only showing top 1 row\n",
      "\n"
     ]
    }
   ],
   "source": [
    "case = case.withColumn('num_hours_late', col('num_days_late') * 24)\n",
    "case.show(1, vertical=True)"
   ]
  },
  {
   "cell_type": "markdown",
   "metadata": {},
   "source": [
    "### Join the case data with the source and department data."
   ]
  },
  {
   "cell_type": "code",
   "execution_count": 70,
   "metadata": {
    "scrolled": true
   },
   "outputs": [
    {
     "name": "stdout",
     "output_type": "stream",
     "text": [
      "+---------------+--------------------+----------------------+-------------------+\n",
      "|  dept_division|           dept_name|standardized_dept_name|dept_subject_to_SLA|\n",
      "+---------------+--------------------+----------------------+-------------------+\n",
      "|311 Call Center|    Customer Service|      Customer Service|               true|\n",
      "|          Brush|Solid Waste Manag...|           Solid Waste|               true|\n",
      "+---------------+--------------------+----------------------+-------------------+\n",
      "only showing top 2 rows\n",
      "\n"
     ]
    }
   ],
   "source": [
    "dept.show(2)"
   ]
  },
  {
   "cell_type": "code",
   "execution_count": 71,
   "metadata": {
    "scrolled": false
   },
   "outputs": [
    {
     "name": "stdout",
     "output_type": "stream",
     "text": [
      "+---------+----------------+\n",
      "|source_id| source_username|\n",
      "+---------+----------------+\n",
      "|   100137|Merlene Blodgett|\n",
      "|   103582|     Carmen Cura|\n",
      "+---------+----------------+\n",
      "only showing top 2 rows\n",
      "\n"
     ]
    }
   ],
   "source": [
    "source.show(2)"
   ]
  },
  {
   "cell_type": "code",
   "execution_count": 72,
   "metadata": {},
   "outputs": [
    {
     "name": "stdout",
     "output_type": "stream",
     "text": [
      "+---------+-----+\n",
      "|source_id|count|\n",
      "+---------+-----+\n",
      "|   136202|    1|\n",
      "|   141239|    1|\n",
      "|  MW16328|    1|\n",
      "|  df03076|    1|\n",
      "|   141549|    1|\n",
      "+---------+-----+\n",
      "only showing top 5 rows\n",
      "\n"
     ]
    }
   ],
   "source": [
    "source_counts = source.groupBy(\"source_id\").count().sort(\"count\")\n",
    "source_counts.show(5)"
   ]
  },
  {
   "cell_type": "code",
   "execution_count": 73,
   "metadata": {},
   "outputs": [
    {
     "data": {
      "text/plain": [
       "139"
      ]
     },
     "execution_count": 73,
     "metadata": {},
     "output_type": "execute_result"
    }
   ],
   "source": [
    "source_counts.count()"
   ]
  },
  {
   "cell_type": "code",
   "execution_count": 74,
   "metadata": {},
   "outputs": [
    {
     "data": {
      "text/plain": [
       "139"
      ]
     },
     "execution_count": 74,
     "metadata": {},
     "output_type": "execute_result"
    }
   ],
   "source": [
    "case_counts = case.groupBy(\"source_id\").count().sort(\"count\")\n",
    "case_counts.count()"
   ]
  },
  {
   "cell_type": "code",
   "execution_count": 75,
   "metadata": {},
   "outputs": [
    {
     "name": "stdout",
     "output_type": "stream",
     "text": [
      "-RECORD 0------------------------------------\n",
      " case_id              | 1014127332           \n",
      " case_opened_date     | 2018-01-01 00:42:00  \n",
      " case_closed_date     | 2018-01-01 00:42:00  \n",
      " case_due_date        | 2018-01-01 00:42:00  \n",
      " case_late            | false                \n",
      " num_days_late        | -998.5087616000001   \n",
      " case_closed          | true                 \n",
      " dept_division        | Field Operations     \n",
      " service_request_type | Stray Animal         \n",
      " SLA_days             | 999.0                \n",
      " case_status          | Closed               \n",
      " source_id            | svcCRMLS             \n",
      " request_address      | 2315  el paso st,... \n",
      " council_district     | 5                    \n",
      " num_weeks_late       | -142.6441088         \n",
      " zipcode              | 78207                \n",
      " case_age             | 1506                 \n",
      " days_to_closed       | 0                    \n",
      " case_lifetime        | 0                    \n",
      " case_closed_year     | 2018                 \n",
      " num_hours_late       | -23964.2102784       \n",
      "only showing top 1 row\n",
      "\n"
     ]
    }
   ],
   "source": [
    "case.show(1, vertical=True)"
   ]
  },
  {
   "cell_type": "code",
   "execution_count": 76,
   "metadata": {},
   "outputs": [],
   "source": [
    "# join the df and dept dataframe using 'dept_division' as common key\n",
    "# drop columns as needed (keep standardized_dept_name)\n",
    "# convert dept_subject_to_SLA to boolean\n",
    "\n",
    "case = (\n",
    "    (\n",
    "    case\n",
    "    # left join on dept_division\n",
    "    .join(dept, \"dept_division\", \"left\")\n",
    "    # drop all the columns except for standardized name, as it has much fewer unique values\n",
    "    .drop(dept.dept_division)\n",
    "    .drop(dept.dept_name)\n",
    "    .withColumnRenamed(\"standardized_dept_name\", \"department\")\n",
    "    # convert to a boolean\n",
    "    .withColumn(\"dept_subject_to_SLA\", col(\"dept_subject_to_SLA\") == \"YES\")\n",
    "    )\n",
    ")"
   ]
  },
  {
   "cell_type": "code",
   "execution_count": 77,
   "metadata": {},
   "outputs": [],
   "source": [
    "case = case.join(source, case.source_id == source.source_id, 'outer').drop(case.source_id)"
   ]
  },
  {
   "cell_type": "code",
   "execution_count": 78,
   "metadata": {
    "scrolled": true
   },
   "outputs": [
    {
     "name": "stdout",
     "output_type": "stream",
     "text": [
      "-RECORD 0------------------------------------\n",
      " dept_division        | Waste Collection     \n",
      " case_id              | 1014128056           \n",
      " case_opened_date     | 2018-01-02 08:21:00  \n",
      " case_closed_date     | 2018-01-02 08:21:00  \n",
      " case_due_date        | 2018-01-02 08:21:00  \n",
      " case_late            | true                 \n",
      " num_days_late        | 5.00681713           \n",
      " case_closed          | true                 \n",
      " service_request_type | Solid Waste Fees ... \n",
      " SLA_days             | 3.00619213           \n",
      " case_status          | Closed               \n",
      " request_address      | 3214  stoney fork... \n",
      " council_district     | 10                   \n",
      " num_weeks_late       | 0.71525959           \n",
      " zipcode              | 78247                \n",
      " case_age             | 1505                 \n",
      " days_to_closed       | 0                    \n",
      " case_lifetime        | 0                    \n",
      " case_closed_year     | 2018                 \n",
      " num_hours_late       | 120.16361112         \n",
      " department           | Solid Waste          \n",
      " dept_subject_to_SLA  | true                 \n",
      " source_id            | 136202               \n",
      " source_username      | Michelle Urrutia     \n",
      "only showing top 1 row\n",
      "\n"
     ]
    }
   ],
   "source": [
    "case.show(1,vertical=True)"
   ]
  },
  {
   "cell_type": "markdown",
   "metadata": {},
   "source": [
    "### Are there any cases that do not have a request source?"
   ]
  },
  {
   "cell_type": "code",
   "execution_count": 79,
   "metadata": {},
   "outputs": [
    {
     "name": "stdout",
     "output_type": "stream",
     "text": [
      "+---------+---------------+\n",
      "|source_id|source_username|\n",
      "+---------+---------------+\n",
      "|        0|              0|\n",
      "+---------+---------------+\n",
      "\n"
     ]
    }
   ],
   "source": [
    "from pyspark.sql.functions import isnan, when, count, col\n",
    "\n",
    "\n",
    "df_columns = ['source_id','source_username']\n",
    "case.select([count(when(isnan(c)| col(c).isNull(), c)).alias(c) for c in df_columns]).show()\n",
    "\n",
    "\n",
    "\n",
    "# i think this is correct, if i have understood the question "
   ]
  },
  {
   "cell_type": "markdown",
   "metadata": {},
   "source": [
    "### What are the top 10 service request types in terms of number of requests?"
   ]
  },
  {
   "cell_type": "code",
   "execution_count": 80,
   "metadata": {},
   "outputs": [
    {
     "name": "stdout",
     "output_type": "stream",
     "text": [
      "-RECORD 0-------------------------------------------\n",
      " service_request_type        | No Pickup            \n",
      " count(service_request_type) | 89210                \n",
      "-RECORD 1-------------------------------------------\n",
      " service_request_type        | Overgrown Yard/Trash \n",
      " count(service_request_type) | 66403                \n",
      "-RECORD 2-------------------------------------------\n",
      " service_request_type        | Bandit Signs         \n",
      " count(service_request_type) | 32968                \n",
      "-RECORD 3-------------------------------------------\n",
      " service_request_type        | Damaged Cart         \n",
      " count(service_request_type) | 31163                \n",
      "-RECORD 4-------------------------------------------\n",
      " service_request_type        | Front Or Side Yar... \n",
      " count(service_request_type) | 28920                \n",
      "-RECORD 5-------------------------------------------\n",
      " service_request_type        | Stray Animal         \n",
      " count(service_request_type) | 27361                \n",
      "-RECORD 6-------------------------------------------\n",
      " service_request_type        | Aggressive Animal... \n",
      " count(service_request_type) | 25492                \n",
      "-RECORD 7-------------------------------------------\n",
      " service_request_type        | Cart Exchange Req... \n",
      " count(service_request_type) | 22608                \n",
      "-RECORD 8-------------------------------------------\n",
      " service_request_type        | Junk Vehicle On P... \n",
      " count(service_request_type) | 21649                \n",
      "-RECORD 9-------------------------------------------\n",
      " service_request_type        | Pot Hole Repair      \n",
      " count(service_request_type) | 20827                \n",
      "only showing top 10 rows\n",
      "\n"
     ]
    }
   ],
   "source": [
    "(\n",
    "case\n",
    ".groupBy('service_request_type')\n",
    ".agg(count(col('service_request_type')))\n",
    ".sort(count(('service_request_type')).desc())\n",
    ".show(10, vertical=True)\n",
    ")"
   ]
  },
  {
   "cell_type": "markdown",
   "metadata": {},
   "source": [
    "### What are the top 10 service request types in terms of average days late?"
   ]
  },
  {
   "cell_type": "code",
   "execution_count": 81,
   "metadata": {},
   "outputs": [
    {
     "name": "stdout",
     "output_type": "stream",
     "text": [
      "-RECORD 0------------------------------------\n",
      " service_request_type | Zoning: Junk Yards   \n",
      " avg(num_days_late)   | 175.95636210420932   \n",
      "-RECORD 1------------------------------------\n",
      " service_request_type | Labeling for Used... \n",
      " avg(num_days_late)   | 162.43032902285717   \n",
      "-RECORD 2------------------------------------\n",
      " service_request_type | Record Keeping of... \n",
      " avg(num_days_late)   | 153.99724039428568   \n",
      "-RECORD 3------------------------------------\n",
      " service_request_type | Signage Requied f... \n",
      " avg(num_days_late)   | 151.63868055333333   \n",
      "-RECORD 4------------------------------------\n",
      " service_request_type | Storage of Used M... \n",
      " avg(num_days_late)   | 142.11255641500003   \n",
      "-RECORD 5------------------------------------\n",
      " service_request_type | Zoning: Recycle Yard \n",
      " avg(num_days_late)   | 135.9285161247979    \n",
      "-RECORD 6------------------------------------\n",
      " service_request_type | Donation Containe... \n",
      " avg(num_days_late)   | 131.75610506358709   \n",
      "-RECORD 7------------------------------------\n",
      " service_request_type | License Requied U... \n",
      " avg(num_days_late)   | 128.79828704142858   \n",
      "-RECORD 8------------------------------------\n",
      " service_request_type | Traffic Signal Gr... \n",
      " avg(num_days_late)   | 101.79846062200002   \n",
      "-RECORD 9------------------------------------\n",
      " service_request_type | Complaint            \n",
      " avg(num_days_late)   | 72.87050230311698    \n",
      "only showing top 10 rows\n",
      "\n"
     ]
    }
   ],
   "source": [
    "(\n",
    "case\n",
    ".groupBy('service_request_type')\n",
    ".agg(mean(col('num_days_late')))\n",
    ".sort(mean(('num_days_late')).desc())\n",
    ".show(10, vertical=True)\n",
    ")"
   ]
  },
  {
   "cell_type": "markdown",
   "metadata": {},
   "source": [
    "### Does number of days late depend on department?"
   ]
  },
  {
   "cell_type": "code",
   "execution_count": 82,
   "metadata": {},
   "outputs": [
    {
     "name": "stdout",
     "output_type": "stream",
     "text": [
      "-RECORD 0----------------------------------\n",
      " department         | Customer Service     \n",
      " avg(num_days_late) | 59.73709149630082    \n",
      "-RECORD 1----------------------------------\n",
      " department         | Solid Waste          \n",
      " avg(num_days_late) | -2.200057513672168   \n",
      "-RECORD 2----------------------------------\n",
      " department         | Metro Health         \n",
      " avg(num_days_late) | -4.911766979607001   \n",
      "-RECORD 3----------------------------------\n",
      " department         | Parks & Recreation   \n",
      " avg(num_days_late) | -5.251521960055156   \n",
      "-RECORD 4----------------------------------\n",
      " department         | Trans & Cap Impro... \n",
      " avg(num_days_late) | -20.612837354052726  \n",
      "-RECORD 5----------------------------------\n",
      " department         | DSD/Code Enforcement \n",
      " avg(num_days_late) | -38.3693889261437    \n",
      "-RECORD 6----------------------------------\n",
      " department         | Animal Care Services \n",
      " avg(num_days_late) | -226.5178394055035   \n",
      "-RECORD 7----------------------------------\n",
      " department         | City Council         \n",
      " avg(num_days_late) | null                 \n",
      "\n"
     ]
    }
   ],
   "source": [
    "(\n",
    "case\n",
    ".groupBy('department')\n",
    ".agg(mean(col('num_days_late')))\n",
    ".sort(mean(('num_days_late')).desc())\n",
    ".show(vertical=True)\n",
    ")"
   ]
  },
  {
   "cell_type": "markdown",
   "metadata": {},
   "source": [
    "### How do number of days late depend on department and request type?"
   ]
  },
  {
   "cell_type": "code",
   "execution_count": 83,
   "metadata": {},
   "outputs": [],
   "source": [
    "# case.show(1,vertical=True)"
   ]
  },
  {
   "cell_type": "code",
   "execution_count": 84,
   "metadata": {},
   "outputs": [
    {
     "name": "stdout",
     "output_type": "stream",
     "text": [
      "-RECORD 0------------------------------------\n",
      " department           | DSD/Code Enforcement \n",
      " service_request_type | Zoning: Junk Yards   \n",
      " avg(num_days_late)   | 175.95636210420932   \n",
      "-RECORD 1------------------------------------\n",
      " department           | DSD/Code Enforcement \n",
      " service_request_type | Labeling for Used... \n",
      " avg(num_days_late)   | 162.43032902285717   \n",
      "-RECORD 2------------------------------------\n",
      " department           | DSD/Code Enforcement \n",
      " service_request_type | Record Keeping of... \n",
      " avg(num_days_late)   | 153.99724039428568   \n",
      "-RECORD 3------------------------------------\n",
      " department           | DSD/Code Enforcement \n",
      " service_request_type | Signage Requied f... \n",
      " avg(num_days_late)   | 151.63868055333333   \n",
      "-RECORD 4------------------------------------\n",
      " department           | DSD/Code Enforcement \n",
      " service_request_type | Storage of Used M... \n",
      " avg(num_days_late)   | 142.11255641500003   \n",
      "-RECORD 5------------------------------------\n",
      " department           | DSD/Code Enforcement \n",
      " service_request_type | Zoning: Recycle Yard \n",
      " avg(num_days_late)   | 135.9285161247979    \n",
      "-RECORD 6------------------------------------\n",
      " department           | DSD/Code Enforcement \n",
      " service_request_type | Donation Containe... \n",
      " avg(num_days_late)   | 131.75610506358709   \n",
      "-RECORD 7------------------------------------\n",
      " department           | DSD/Code Enforcement \n",
      " service_request_type | License Requied U... \n",
      " avg(num_days_late)   | 128.79828704142858   \n",
      "-RECORD 8------------------------------------\n",
      " department           | Trans & Cap Impro... \n",
      " service_request_type | Traffic Signal Gr... \n",
      " avg(num_days_late)   | 101.79846062200002   \n",
      "-RECORD 9------------------------------------\n",
      " department           | Customer Service     \n",
      " service_request_type | Complaint            \n",
      " avg(num_days_late)   | 72.87050230311696    \n",
      "only showing top 10 rows\n",
      "\n"
     ]
    }
   ],
   "source": [
    "####################################################################\n",
    "###### This code works great, don't lose it, do build on it\n",
    "#####################################################################\n",
    "\n",
    "(\n",
    "case\n",
    ".groupBy('department','service_request_type')\n",
    ".agg(mean(col('num_days_late')))\n",
    ".sort(mean(('num_days_late')).desc())\n",
    ".show(10, vertical=True)\n",
    ")"
   ]
  },
  {
   "cell_type": "code",
   "execution_count": 89,
   "metadata": {},
   "outputs": [
    {
     "name": "stdout",
     "output_type": "stream",
     "text": [
      "-RECORD 0----------------------------------------\n",
      " service_request_type     | Minimum Housing-O... \n",
      " Animal Care Services     | null                 \n",
      " City Council             | null                 \n",
      " Customer Service         | null                 \n",
      " DSD/Code Enforcement     | -107.00004932180568  \n",
      " Metro Health             | null                 \n",
      " Parks & Recreation       | null                 \n",
      " Solid Waste              | null                 \n",
      " Trans & Cap Improvements | null                 \n",
      "-RECORD 1----------------------------------------\n",
      " service_request_type     | Tree Removal         \n",
      " Animal Care Services     | null                 \n",
      " City Council             | null                 \n",
      " Customer Service         | null                 \n",
      " DSD/Code Enforcement     | null                 \n",
      " Metro Health             | null                 \n",
      " Parks & Recreation       | 5.658236274288586    \n",
      " Solid Waste              | null                 \n",
      " Trans & Cap Improvements | null                 \n",
      "-RECORD 2----------------------------------------\n",
      " service_request_type     | Service Information  \n",
      " Animal Care Services     | null                 \n",
      " City Council             | null                 \n",
      " Customer Service         | null                 \n",
      " DSD/Code Enforcement     | null                 \n",
      " Metro Health             | null                 \n",
      " Parks & Recreation       | null                 \n",
      " Solid Waste              | 29.177355749054886   \n",
      " Trans & Cap Improvements | null                 \n",
      "-RECORD 3----------------------------------------\n",
      " service_request_type     | Sign Maintenance     \n",
      " Animal Care Services     | null                 \n",
      " City Council             | null                 \n",
      " Customer Service         | null                 \n",
      " DSD/Code Enforcement     | null                 \n",
      " Metro Health             | null                 \n",
      " Parks & Recreation       | 4.141523684634146    \n",
      " Solid Waste              | null                 \n",
      " Trans & Cap Improvements | null                 \n",
      "-RECORD 4----------------------------------------\n",
      " service_request_type     | Park Building Mai... \n",
      " Animal Care Services     | null                 \n",
      " City Council             | null                 \n",
      " Customer Service         | null                 \n",
      " DSD/Code Enforcement     | null                 \n",
      " Metro Health             | null                 \n",
      " Parks & Recreation       | 24.322320840895838   \n",
      " Solid Waste              | null                 \n",
      " Trans & Cap Improvements | null                 \n",
      "-RECORD 5----------------------------------------\n",
      " service_request_type     | Brush Property Da... \n",
      " Animal Care Services     | null                 \n",
      " City Council             | null                 \n",
      " Customer Service         | null                 \n",
      " DSD/Code Enforcement     | null                 \n",
      " Metro Health             | null                 \n",
      " Parks & Recreation       | null                 \n",
      " Solid Waste              | -4.930477772768818   \n",
      " Trans & Cap Improvements | null                 \n",
      "-RECORD 6----------------------------------------\n",
      " service_request_type     | Graffiti: Private... \n",
      " Animal Care Services     | null                 \n",
      " City Council             | null                 \n",
      " Customer Service         | null                 \n",
      " DSD/Code Enforcement     | -63.23681383044865   \n",
      " Metro Health             | null                 \n",
      " Parks & Recreation       | null                 \n",
      " Solid Waste              | null                 \n",
      " Trans & Cap Improvements | null                 \n",
      "-RECORD 7----------------------------------------\n",
      " service_request_type     | Traffic Sign Graf... \n",
      " Animal Care Services     | null                 \n",
      " City Council             | null                 \n",
      " Customer Service         | null                 \n",
      " DSD/Code Enforcement     | null                 \n",
      " Metro Health             | null                 \n",
      " Parks & Recreation       | null                 \n",
      " Solid Waste              | null                 \n",
      " Trans & Cap Improvements | -10.59109210812      \n",
      "-RECORD 8----------------------------------------\n",
      " service_request_type     | License Renewal I... \n",
      " Animal Care Services     | null                 \n",
      " City Council             | null                 \n",
      " Customer Service         | null                 \n",
      " DSD/Code Enforcement     | null                 \n",
      " Metro Health             | -1.412693770221664   \n",
      " Parks & Recreation       | null                 \n",
      " Solid Waste              | null                 \n",
      " Trans & Cap Improvements | null                 \n",
      "-RECORD 9----------------------------------------\n",
      " service_request_type     | Used/Scrap Tire F... \n",
      " Animal Care Services     | null                 \n",
      " City Council             | null                 \n",
      " Customer Service         | null                 \n",
      " DSD/Code Enforcement     | -91.92989401152632   \n",
      " Metro Health             | null                 \n",
      " Parks & Recreation       | null                 \n",
      " Solid Waste              | null                 \n",
      " Trans & Cap Improvements | null                 \n",
      "-RECORD 10---------------------------------------\n",
      " service_request_type     | Guardrail- New Re... \n",
      " Animal Care Services     | null                 \n",
      " City Council             | null                 \n",
      " Customer Service         | null                 \n",
      " DSD/Code Enforcement     | null                 \n",
      " Metro Health             | null                 \n",
      " Parks & Recreation       | null                 \n",
      " Solid Waste              | null                 \n",
      " Trans & Cap Improvements | -23.855781249869995  \n",
      "-RECORD 11---------------------------------------\n",
      " service_request_type     | Markings Installa... \n",
      " Animal Care Services     | null                 \n",
      " City Council             | null                 \n",
      " Customer Service         | null                 \n",
      " DSD/Code Enforcement     | null                 \n",
      " Metro Health             | null                 \n",
      " Parks & Recreation       | null                 \n",
      " Solid Waste              | null                 \n",
      " Trans & Cap Improvements | 16.81324652075       \n",
      "-RECORD 12---------------------------------------\n",
      " service_request_type     | CCO_Request for R... \n",
      " Animal Care Services     | null                 \n",
      " City Council             | null                 \n",
      " Customer Service         | null                 \n",
      " DSD/Code Enforcement     | null                 \n",
      " Metro Health             | null                 \n",
      " Parks & Recreation       | null                 \n",
      " Solid Waste              | null                 \n",
      " Trans & Cap Improvements | null                 \n",
      "-RECORD 13---------------------------------------\n",
      " service_request_type     | Sewer Line Broken    \n",
      " Animal Care Services     | null                 \n",
      " City Council             | null                 \n",
      " Customer Service         | null                 \n",
      " DSD/Code Enforcement     | -53.81117391968622   \n",
      " Metro Health             | null                 \n",
      " Parks & Recreation       | null                 \n",
      " Solid Waste              | null                 \n",
      " Trans & Cap Improvements | null                 \n",
      "-RECORD 14---------------------------------------\n",
      " service_request_type     | Zoning: Multi-Fam... \n",
      " Animal Care Services     | null                 \n",
      " City Council             | null                 \n",
      " Customer Service         | null                 \n",
      " DSD/Code Enforcement     | -108.88820831113964  \n",
      " Metro Health             | null                 \n",
      " Parks & Recreation       | null                 \n",
      " Solid Waste              | null                 \n",
      " Trans & Cap Improvements | null                 \n",
      "-RECORD 15---------------------------------------\n",
      " service_request_type     | Engineering Inves... \n",
      " Animal Care Services     | null                 \n",
      " City Council             | null                 \n",
      " Customer Service         | null                 \n",
      " DSD/Code Enforcement     | null                 \n",
      " Metro Health             | null                 \n",
      " Parks & Recreation       | null                 \n",
      " Solid Waste              | null                 \n",
      " Trans & Cap Improvements | -9.384805868132927   \n",
      "-RECORD 16---------------------------------------\n",
      " service_request_type     | Zoning: Setbacks     \n",
      " Animal Care Services     | null                 \n",
      " City Council             | null                 \n",
      " Customer Service         | null                 \n",
      " DSD/Code Enforcement     | -85.31767946378298   \n",
      " Metro Health             | null                 \n",
      " Parks & Recreation       | null                 \n",
      " Solid Waste              | null                 \n",
      " Trans & Cap Improvements | null                 \n",
      "-RECORD 17---------------------------------------\n",
      " service_request_type     | Permits, Fences      \n",
      " Animal Care Services     | null                 \n",
      " City Council             | null                 \n",
      " Customer Service         | null                 \n",
      " DSD/Code Enforcement     | -14.198422204579087  \n",
      " Metro Health             | null                 \n",
      " Parks & Recreation       | null                 \n",
      " Solid Waste              | null                 \n",
      " Trans & Cap Improvements | null                 \n",
      "-RECORD 18---------------------------------------\n",
      " service_request_type     | Traffic Sign Faded   \n",
      " Animal Care Services     | null                 \n",
      " City Council             | null                 \n",
      " Customer Service         | null                 \n",
      " DSD/Code Enforcement     | null                 \n",
      " Metro Health             | null                 \n",
      " Parks & Recreation       | null                 \n",
      " Solid Waste              | null                 \n",
      " Trans & Cap Improvements | -15.919892142110202  \n",
      "-RECORD 19---------------------------------------\n",
      " service_request_type     | Certificates of O... \n",
      " Animal Care Services     | null                 \n",
      " City Council             | null                 \n",
      " Customer Service         | null                 \n",
      " DSD/Code Enforcement     | -92.57815517679504   \n",
      " Metro Health             | null                 \n",
      " Parks & Recreation       | null                 \n",
      " Solid Waste              | null                 \n",
      " Trans & Cap Improvements | null                 \n",
      "only showing top 20 rows\n",
      "\n"
     ]
    }
   ],
   "source": [
    "# (\n",
    "# case\n",
    "# .groupBy('service_request_type')\n",
    "# .pivot('department')\n",
    "# .mean('num_days_late')\n",
    "# # .sort(mean(('num_days_late')).desc())\n",
    "# .show(vertical=True)#10, vertical=True)\n",
    "# )\n",
    "\n",
    "\n",
    "(\n",
    "case.groupBy('service_request_type')\n",
    ".pivot('department')\n",
    ".mean('num_days_late')\n",
    "# .sort(mean(('num_days_late')).desc())\n",
    ".show(vertical=True)#10, vertical=True)\n",
    ")"
   ]
  },
  {
   "cell_type": "code",
   "execution_count": null,
   "metadata": {},
   "outputs": [],
   "source": []
  }
 ],
 "metadata": {
  "kernelspec": {
   "display_name": "Python 3",
   "language": "python",
   "name": "python3"
  },
  "language_info": {
   "codemirror_mode": {
    "name": "ipython",
    "version": 3
   },
   "file_extension": ".py",
   "mimetype": "text/x-python",
   "name": "python",
   "nbconvert_exporter": "python",
   "pygments_lexer": "ipython3",
   "version": "3.8.8"
  }
 },
 "nbformat": 4,
 "nbformat_minor": 4
}
